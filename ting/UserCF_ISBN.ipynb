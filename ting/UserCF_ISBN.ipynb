{
 "cells": [
  {
   "cell_type": "code",
   "execution_count": 2,
   "id": "f871ef14",
   "metadata": {},
   "outputs": [],
   "source": [
    "import pandas as pd\n",
    "import numpy as np\n",
    "from scipy.sparse import csr_matrix\n",
    "from sklearn.neighbors import NearestNeighbors"
   ]
  },
  {
   "cell_type": "code",
   "execution_count": 3,
   "id": "85ea8c7e",
   "metadata": {},
   "outputs": [
    {
     "data": {
      "text/html": [
       "<div>\n",
       "<style scoped>\n",
       "    .dataframe tbody tr th:only-of-type {\n",
       "        vertical-align: middle;\n",
       "    }\n",
       "\n",
       "    .dataframe tbody tr th {\n",
       "        vertical-align: top;\n",
       "    }\n",
       "\n",
       "    .dataframe thead th {\n",
       "        text-align: right;\n",
       "    }\n",
       "</style>\n",
       "<table border=\"1\" class=\"dataframe\">\n",
       "  <thead>\n",
       "    <tr style=\"text-align: right;\">\n",
       "      <th></th>\n",
       "      <th>BOOKNAME</th>\n",
       "      <th>CONTENT</th>\n",
       "      <th>ISBN</th>\n",
       "      <th>USER</th>\n",
       "      <th>USERSTAR</th>\n",
       "    </tr>\n",
       "  </thead>\n",
       "  <tbody>\n",
       "    <tr>\n",
       "      <th>0</th>\n",
       "      <td>「氣內臟」自癒按摩法：每天按摩脾．肝．腎30秒，美肌、消除便秘、好眠、減肥，天天都有好氣色！</td>\n",
       "      <td>深入淺出，圖片清晰介唔按壓身體及伸展。\\n按照個人體質、情志、節氣等，以吃，嗅香芬、調息、伸...</td>\n",
       "      <td>9789865683498</td>\n",
       "      <td>啟迪</td>\n",
       "      <td>5.0</td>\n",
       "    </tr>\n",
       "    <tr>\n",
       "      <th>1</th>\n",
       "      <td>唐鳳：我所看待的自由與未來</td>\n",
       "      <td>一開始是對唐鳳好奇，想更了解她，讀完之後真正體認到她是個傳奇人物，同時她的家庭給了她很大的自...</td>\n",
       "      <td>9789575036942</td>\n",
       "      <td>Miley Guan</td>\n",
       "      <td>5.0</td>\n",
       "    </tr>\n",
       "    <tr>\n",
       "      <th>2</th>\n",
       "      <td>老夫老妻重返青春（1）</td>\n",
       "      <td>看了很暖心的漫畫，會覺得要好好過每一天</td>\n",
       "      <td>9789865241810</td>\n",
       "      <td>蘇蘇</td>\n",
       "      <td>0.0</td>\n",
       "    </tr>\n",
       "    <tr>\n",
       "      <th>3</th>\n",
       "      <td>祕密瑜伽士的日常</td>\n",
       "      <td>直指心性的好書，書中道理發人省思</td>\n",
       "      <td>9789864779079</td>\n",
       "      <td>kbboss7416</td>\n",
       "      <td>5.0</td>\n",
       "    </tr>\n",
       "    <tr>\n",
       "      <th>4</th>\n",
       "      <td>花開千年（01）</td>\n",
       "      <td>好唯美的畫風。喜歡故事開頭引用的一段《佛經》：「彼岸花，開一千年，落一千年，花葉永不想見。情...</td>\n",
       "      <td>9789571068121</td>\n",
       "      <td>Annie</td>\n",
       "      <td>5.0</td>\n",
       "    </tr>\n",
       "  </tbody>\n",
       "</table>\n",
       "</div>"
      ],
      "text/plain": [
       "                                         BOOKNAME  \\\n",
       "0  「氣內臟」自癒按摩法：每天按摩脾．肝．腎30秒，美肌、消除便秘、好眠、減肥，天天都有好氣色！   \n",
       "1                                   唐鳳：我所看待的自由與未來   \n",
       "2                                     老夫老妻重返青春（1）   \n",
       "3                                        祕密瑜伽士的日常   \n",
       "4                                        花開千年（01）   \n",
       "\n",
       "                                             CONTENT           ISBN  \\\n",
       "0  深入淺出，圖片清晰介唔按壓身體及伸展。\\n按照個人體質、情志、節氣等，以吃，嗅香芬、調息、伸...  9789865683498   \n",
       "1  一開始是對唐鳳好奇，想更了解她，讀完之後真正體認到她是個傳奇人物，同時她的家庭給了她很大的自...  9789575036942   \n",
       "2                                看了很暖心的漫畫，會覺得要好好過每一天  9789865241810   \n",
       "3                                   直指心性的好書，書中道理發人省思  9789864779079   \n",
       "4  好唯美的畫風。喜歡故事開頭引用的一段《佛經》：「彼岸花，開一千年，落一千年，花葉永不想見。情...  9789571068121   \n",
       "\n",
       "         USER  USERSTAR  \n",
       "0          啟迪       5.0  \n",
       "1  Miley Guan       5.0  \n",
       "2          蘇蘇       0.0  \n",
       "3  kbboss7416       5.0  \n",
       "4       Annie       5.0  "
      ]
     },
     "execution_count": 3,
     "metadata": {},
     "output_type": "execute_result"
    }
   ],
   "source": [
    "#載入資料集\n",
    "rating_df = pd.read_csv('userstar.csv')\n",
    "rating_df.head()"
   ]
  },
  {
   "cell_type": "code",
   "execution_count": 4,
   "id": "1237962d",
   "metadata": {},
   "outputs": [
    {
     "data": {
      "text/plain": [
       "BOOKNAME    False\n",
       "CONTENT      True\n",
       "ISBN        False\n",
       "USER         True\n",
       "USERSTAR     True\n",
       "dtype: bool"
      ]
     },
     "execution_count": 4,
     "metadata": {},
     "output_type": "execute_result"
    }
   ],
   "source": [
    "# 檢查空值\n",
    "rating_df.isna().any()"
   ]
  },
  {
   "cell_type": "code",
   "execution_count": 5,
   "id": "5b4e62ae",
   "metadata": {},
   "outputs": [
    {
     "data": {
      "text/plain": [
       "BOOKNAME    False\n",
       "CONTENT     False\n",
       "ISBN        False\n",
       "USER        False\n",
       "USERSTAR    False\n",
       "dtype: bool"
      ]
     },
     "execution_count": 5,
     "metadata": {},
     "output_type": "execute_result"
    }
   ],
   "source": [
    "# 清理空值並檢查空值\n",
    "rating_df=rating_df.dropna(axis=0)\n",
    "rating_df.isna().any()"
   ]
  },
  {
   "cell_type": "code",
   "execution_count": 6,
   "id": "e44ae00a",
   "metadata": {},
   "outputs": [
    {
     "name": "stdout",
     "output_type": "stream",
     "text": [
      "> 72 duplicates\n",
      "> 0 duplicates\n"
     ]
    }
   ],
   "source": [
    "# 清理重複\n",
    "duplicates = rating_df.duplicated()\n",
    "\n",
    "if duplicates.sum() > 0:\n",
    "    print('> {} duplicates'.format(duplicates.sum()))\n",
    "    rating_df = rating_df[~duplicates]\n",
    "\n",
    "print('> {} duplicates'.format(rating_df.duplicated().sum()))"
   ]
  },
  {
   "cell_type": "code",
   "execution_count": 7,
   "id": "d58a5b0d",
   "metadata": {},
   "outputs": [
    {
     "name": "stdout",
     "output_type": "stream",
     "text": [
      "Rating Dataframe shape :  (100091, 5)\n"
     ]
    }
   ],
   "source": [
    "print('Rating Dataframe shape : ', rating_df.shape)"
   ]
  },
  {
   "cell_type": "code",
   "execution_count": 8,
   "id": "86f17429",
   "metadata": {},
   "outputs": [],
   "source": [
    "# 移除 CONTENT 欄位\n",
    "rating_df.drop(['CONTENT'], axis = 1, inplace = True)"
   ]
  },
  {
   "cell_type": "code",
   "execution_count": 9,
   "id": "6da6c013",
   "metadata": {},
   "outputs": [],
   "source": [
    "# ISBN轉為字串 移除 ISBN等於 0\n",
    "rating_df['ISBN'] = rating_df['ISBN'].astype('str')\n",
    "rating_df=rating_df.drop(rating_df[rating_df[\"ISBN\"]=='0'].index,axis=0) "
   ]
  },
  {
   "cell_type": "code",
   "execution_count": 10,
   "id": "d80b8d45",
   "metadata": {},
   "outputs": [
    {
     "data": {
      "text/html": [
       "<div>\n",
       "<style scoped>\n",
       "    .dataframe tbody tr th:only-of-type {\n",
       "        vertical-align: middle;\n",
       "    }\n",
       "\n",
       "    .dataframe tbody tr th {\n",
       "        vertical-align: top;\n",
       "    }\n",
       "\n",
       "    .dataframe thead th {\n",
       "        text-align: right;\n",
       "    }\n",
       "</style>\n",
       "<table border=\"1\" class=\"dataframe\">\n",
       "  <thead>\n",
       "    <tr style=\"text-align: right;\">\n",
       "      <th></th>\n",
       "      <th>BOOKNAME</th>\n",
       "      <th>ISBN</th>\n",
       "      <th>USER</th>\n",
       "      <th>USERSTAR</th>\n",
       "      <th>user_id</th>\n",
       "    </tr>\n",
       "  </thead>\n",
       "  <tbody>\n",
       "    <tr>\n",
       "      <th>0</th>\n",
       "      <td>「氣內臟」自癒按摩法：每天按摩脾．肝．腎30秒，美肌、消除便秘、好眠、減肥，天天都有好氣色！</td>\n",
       "      <td>9789865683498</td>\n",
       "      <td>啟迪</td>\n",
       "      <td>5.0</td>\n",
       "      <td>8025</td>\n",
       "    </tr>\n",
       "    <tr>\n",
       "      <th>1</th>\n",
       "      <td>唐鳳：我所看待的自由與未來</td>\n",
       "      <td>9789575036942</td>\n",
       "      <td>Miley Guan</td>\n",
       "      <td>5.0</td>\n",
       "      <td>937</td>\n",
       "    </tr>\n",
       "    <tr>\n",
       "      <th>2</th>\n",
       "      <td>老夫老妻重返青春（1）</td>\n",
       "      <td>9789865241810</td>\n",
       "      <td>蘇蘇</td>\n",
       "      <td>0.0</td>\n",
       "      <td>8685</td>\n",
       "    </tr>\n",
       "    <tr>\n",
       "      <th>3</th>\n",
       "      <td>祕密瑜伽士的日常</td>\n",
       "      <td>9789864779079</td>\n",
       "      <td>kbboss7416</td>\n",
       "      <td>5.0</td>\n",
       "      <td>4491</td>\n",
       "    </tr>\n",
       "    <tr>\n",
       "      <th>4</th>\n",
       "      <td>花開千年（01）</td>\n",
       "      <td>9789571068121</td>\n",
       "      <td>Annie</td>\n",
       "      <td>5.0</td>\n",
       "      <td>200</td>\n",
       "    </tr>\n",
       "  </tbody>\n",
       "</table>\n",
       "</div>"
      ],
      "text/plain": [
       "                                         BOOKNAME           ISBN        USER  \\\n",
       "0  「氣內臟」自癒按摩法：每天按摩脾．肝．腎30秒，美肌、消除便秘、好眠、減肥，天天都有好氣色！  9789865683498          啟迪   \n",
       "1                                   唐鳳：我所看待的自由與未來  9789575036942  Miley Guan   \n",
       "2                                     老夫老妻重返青春（1）  9789865241810          蘇蘇   \n",
       "3                                        祕密瑜伽士的日常  9789864779079  kbboss7416   \n",
       "4                                        花開千年（01）  9789571068121       Annie   \n",
       "\n",
       "   USERSTAR  user_id  \n",
       "0       5.0     8025  \n",
       "1       5.0      937  \n",
       "2       0.0     8685  \n",
       "3       5.0     4491  \n",
       "4       5.0      200  "
      ]
     },
     "execution_count": 10,
     "metadata": {},
     "output_type": "execute_result"
    }
   ],
   "source": [
    "# 給user_id\n",
    "import statsmodels.api as sm\n",
    "rating_df['user_id'] = pd.Categorical(rating_df.USER).codes   \n",
    "rating_df.head()"
   ]
  },
  {
   "cell_type": "code",
   "execution_count": 11,
   "id": "3b9a4ecf",
   "metadata": {},
   "outputs": [
    {
     "data": {
      "text/html": [
       "<div>\n",
       "<style scoped>\n",
       "    .dataframe tbody tr th:only-of-type {\n",
       "        vertical-align: middle;\n",
       "    }\n",
       "\n",
       "    .dataframe tbody tr th {\n",
       "        vertical-align: top;\n",
       "    }\n",
       "\n",
       "    .dataframe thead th {\n",
       "        text-align: right;\n",
       "    }\n",
       "</style>\n",
       "<table border=\"1\" class=\"dataframe\">\n",
       "  <thead>\n",
       "    <tr style=\"text-align: right;\">\n",
       "      <th>user_id</th>\n",
       "      <th>0</th>\n",
       "      <th>1</th>\n",
       "      <th>2</th>\n",
       "      <th>3</th>\n",
       "      <th>4</th>\n",
       "      <th>5</th>\n",
       "      <th>6</th>\n",
       "      <th>7</th>\n",
       "      <th>8</th>\n",
       "      <th>9</th>\n",
       "      <th>...</th>\n",
       "      <th>8901</th>\n",
       "      <th>8902</th>\n",
       "      <th>8903</th>\n",
       "      <th>8904</th>\n",
       "      <th>8905</th>\n",
       "      <th>8906</th>\n",
       "      <th>8907</th>\n",
       "      <th>8908</th>\n",
       "      <th>8909</th>\n",
       "      <th>8910</th>\n",
       "    </tr>\n",
       "    <tr>\n",
       "      <th>ISBN</th>\n",
       "      <th></th>\n",
       "      <th></th>\n",
       "      <th></th>\n",
       "      <th></th>\n",
       "      <th></th>\n",
       "      <th></th>\n",
       "      <th></th>\n",
       "      <th></th>\n",
       "      <th></th>\n",
       "      <th></th>\n",
       "      <th></th>\n",
       "      <th></th>\n",
       "      <th></th>\n",
       "      <th></th>\n",
       "      <th></th>\n",
       "      <th></th>\n",
       "      <th></th>\n",
       "      <th></th>\n",
       "      <th></th>\n",
       "      <th></th>\n",
       "      <th></th>\n",
       "    </tr>\n",
       "  </thead>\n",
       "  <tbody>\n",
       "    <tr>\n",
       "      <th>1905302050014</th>\n",
       "      <td>NaN</td>\n",
       "      <td>NaN</td>\n",
       "      <td>NaN</td>\n",
       "      <td>NaN</td>\n",
       "      <td>NaN</td>\n",
       "      <td>NaN</td>\n",
       "      <td>NaN</td>\n",
       "      <td>NaN</td>\n",
       "      <td>NaN</td>\n",
       "      <td>NaN</td>\n",
       "      <td>...</td>\n",
       "      <td>NaN</td>\n",
       "      <td>NaN</td>\n",
       "      <td>NaN</td>\n",
       "      <td>NaN</td>\n",
       "      <td>NaN</td>\n",
       "      <td>NaN</td>\n",
       "      <td>NaN</td>\n",
       "      <td>NaN</td>\n",
       "      <td>NaN</td>\n",
       "      <td>NaN</td>\n",
       "    </tr>\n",
       "    <tr>\n",
       "      <th>1907082050017</th>\n",
       "      <td>NaN</td>\n",
       "      <td>NaN</td>\n",
       "      <td>NaN</td>\n",
       "      <td>NaN</td>\n",
       "      <td>NaN</td>\n",
       "      <td>NaN</td>\n",
       "      <td>NaN</td>\n",
       "      <td>NaN</td>\n",
       "      <td>NaN</td>\n",
       "      <td>NaN</td>\n",
       "      <td>...</td>\n",
       "      <td>NaN</td>\n",
       "      <td>NaN</td>\n",
       "      <td>NaN</td>\n",
       "      <td>NaN</td>\n",
       "      <td>NaN</td>\n",
       "      <td>NaN</td>\n",
       "      <td>NaN</td>\n",
       "      <td>NaN</td>\n",
       "      <td>NaN</td>\n",
       "      <td>NaN</td>\n",
       "    </tr>\n",
       "    <tr>\n",
       "      <th>4710415386243</th>\n",
       "      <td>NaN</td>\n",
       "      <td>NaN</td>\n",
       "      <td>NaN</td>\n",
       "      <td>NaN</td>\n",
       "      <td>NaN</td>\n",
       "      <td>NaN</td>\n",
       "      <td>NaN</td>\n",
       "      <td>NaN</td>\n",
       "      <td>NaN</td>\n",
       "      <td>NaN</td>\n",
       "      <td>...</td>\n",
       "      <td>NaN</td>\n",
       "      <td>NaN</td>\n",
       "      <td>NaN</td>\n",
       "      <td>NaN</td>\n",
       "      <td>NaN</td>\n",
       "      <td>NaN</td>\n",
       "      <td>NaN</td>\n",
       "      <td>NaN</td>\n",
       "      <td>NaN</td>\n",
       "      <td>NaN</td>\n",
       "    </tr>\n",
       "    <tr>\n",
       "      <th>4710614360792</th>\n",
       "      <td>NaN</td>\n",
       "      <td>NaN</td>\n",
       "      <td>NaN</td>\n",
       "      <td>NaN</td>\n",
       "      <td>NaN</td>\n",
       "      <td>NaN</td>\n",
       "      <td>NaN</td>\n",
       "      <td>NaN</td>\n",
       "      <td>NaN</td>\n",
       "      <td>NaN</td>\n",
       "      <td>...</td>\n",
       "      <td>NaN</td>\n",
       "      <td>NaN</td>\n",
       "      <td>NaN</td>\n",
       "      <td>NaN</td>\n",
       "      <td>NaN</td>\n",
       "      <td>NaN</td>\n",
       "      <td>NaN</td>\n",
       "      <td>NaN</td>\n",
       "      <td>NaN</td>\n",
       "      <td>NaN</td>\n",
       "    </tr>\n",
       "    <tr>\n",
       "      <th>4710614360808</th>\n",
       "      <td>NaN</td>\n",
       "      <td>NaN</td>\n",
       "      <td>NaN</td>\n",
       "      <td>NaN</td>\n",
       "      <td>NaN</td>\n",
       "      <td>NaN</td>\n",
       "      <td>NaN</td>\n",
       "      <td>NaN</td>\n",
       "      <td>NaN</td>\n",
       "      <td>NaN</td>\n",
       "      <td>...</td>\n",
       "      <td>NaN</td>\n",
       "      <td>NaN</td>\n",
       "      <td>NaN</td>\n",
       "      <td>NaN</td>\n",
       "      <td>NaN</td>\n",
       "      <td>NaN</td>\n",
       "      <td>NaN</td>\n",
       "      <td>NaN</td>\n",
       "      <td>NaN</td>\n",
       "      <td>NaN</td>\n",
       "    </tr>\n",
       "  </tbody>\n",
       "</table>\n",
       "<p>5 rows × 8911 columns</p>\n",
       "</div>"
      ],
      "text/plain": [
       "user_id        0     1     2     3     4     5     6     7     8     9     \\\n",
       "ISBN                                                                        \n",
       "1905302050014   NaN   NaN   NaN   NaN   NaN   NaN   NaN   NaN   NaN   NaN   \n",
       "1907082050017   NaN   NaN   NaN   NaN   NaN   NaN   NaN   NaN   NaN   NaN   \n",
       "4710415386243   NaN   NaN   NaN   NaN   NaN   NaN   NaN   NaN   NaN   NaN   \n",
       "4710614360792   NaN   NaN   NaN   NaN   NaN   NaN   NaN   NaN   NaN   NaN   \n",
       "4710614360808   NaN   NaN   NaN   NaN   NaN   NaN   NaN   NaN   NaN   NaN   \n",
       "\n",
       "user_id        ...  8901  8902  8903  8904  8905  8906  8907  8908  8909  8910  \n",
       "ISBN           ...                                                              \n",
       "1905302050014  ...   NaN   NaN   NaN   NaN   NaN   NaN   NaN   NaN   NaN   NaN  \n",
       "1907082050017  ...   NaN   NaN   NaN   NaN   NaN   NaN   NaN   NaN   NaN   NaN  \n",
       "4710415386243  ...   NaN   NaN   NaN   NaN   NaN   NaN   NaN   NaN   NaN   NaN  \n",
       "4710614360792  ...   NaN   NaN   NaN   NaN   NaN   NaN   NaN   NaN   NaN   NaN  \n",
       "4710614360808  ...   NaN   NaN   NaN   NaN   NaN   NaN   NaN   NaN   NaN   NaN  \n",
       "\n",
       "[5 rows x 8911 columns]"
      ]
     },
     "execution_count": 11,
     "metadata": {},
     "output_type": "execute_result"
    }
   ],
   "source": [
    "book_features_df = rating_df.pivot_table(index = 'ISBN',columns = 'user_id',values = 'USERSTAR')\n",
    "book_features_df.head()"
   ]
  },
  {
   "cell_type": "code",
   "execution_count": 12,
   "id": "712229fe",
   "metadata": {},
   "outputs": [
    {
     "data": {
      "text/plain": [
       "user_id\n",
       "0       47170\n",
       "1       47161\n",
       "2       47109\n",
       "3       47176\n",
       "4       47158\n",
       "        ...  \n",
       "8906    47137\n",
       "8907    47176\n",
       "8908    47175\n",
       "8909    47175\n",
       "8910    47169\n",
       "Length: 8911, dtype: int64"
      ]
     },
     "execution_count": 12,
     "metadata": {},
     "output_type": "execute_result"
    }
   ],
   "source": [
    "missing_value = book_features_df.isna().sum()\n",
    "missing_value"
   ]
  },
  {
   "cell_type": "code",
   "execution_count": 13,
   "id": "2f7a342e",
   "metadata": {},
   "outputs": [
    {
     "name": "stdout",
     "output_type": "stream",
     "text": [
      "Total Empty cells are :  420303254\n",
      "Total cells in Matrix are :  420403158\n",
      "Sparsity of Matrix are :  0.9997623614425846\n"
     ]
    }
   ],
   "source": [
    "rows = book_features_df.shape[0]\n",
    "cols = book_features_df.shape[1]\n",
    "\n",
    "count_empty_or_zero_cells = book_features_df.isna().sum().sum()\n",
    "total_elements = rows * cols\n",
    "\n",
    "sparsity_of_matrix = count_empty_or_zero_cells/total_elements\n",
    "\n",
    "print('Total Empty cells are : ', count_empty_or_zero_cells)\n",
    "print('Total cells in Matrix are : ', total_elements)\n",
    "print('Sparsity of Matrix are : ', sparsity_of_matrix)"
   ]
  },
  {
   "cell_type": "code",
   "execution_count": 14,
   "id": "214ec3a9",
   "metadata": {},
   "outputs": [],
   "source": [
    "# 空值用 0 取代\n",
    "book_features_df.fillna(0, inplace = True)"
   ]
  },
  {
   "cell_type": "code",
   "execution_count": 15,
   "id": "576c892b",
   "metadata": {},
   "outputs": [
    {
     "data": {
      "text/plain": [
       "array([[0., 0., 0., ..., 0., 0., 0.],\n",
       "       [0., 0., 0., ..., 0., 0., 0.],\n",
       "       [0., 0., 0., ..., 0., 0., 0.],\n",
       "       ...,\n",
       "       [0., 0., 0., ..., 0., 0., 0.],\n",
       "       [0., 0., 0., ..., 0., 0., 0.],\n",
       "       [0., 0., 0., ..., 0., 0., 0.]])"
      ]
     },
     "execution_count": 15,
     "metadata": {},
     "output_type": "execute_result"
    }
   ],
   "source": [
    "book_features_df.values"
   ]
  },
  {
   "cell_type": "code",
   "execution_count": 16,
   "id": "319f8c46",
   "metadata": {},
   "outputs": [],
   "source": [
    "from scipy.sparse import csr_matrix\n",
    "book_features_df_matrix = csr_matrix(book_features_df.values)"
   ]
  },
  {
   "cell_type": "code",
   "execution_count": 17,
   "id": "184d2756",
   "metadata": {},
   "outputs": [
    {
     "data": {
      "text/plain": [
       "NearestNeighbors(algorithm='brute', metric='cosine')"
      ]
     },
     "execution_count": 17,
     "metadata": {},
     "output_type": "execute_result"
    }
   ],
   "source": [
    "# 建立餘弦相似模型 (K-近鄰演算法)\n",
    "from sklearn.neighbors import NearestNeighbors\n",
    "nearest_neighbor_model = NearestNeighbors(metric = 'cosine', algorithm = 'brute')\n",
    "nearest_neighbor_model.fit(book_features_df_matrix)"
   ]
  },
  {
   "cell_type": "code",
   "execution_count": 18,
   "id": "2891aed2",
   "metadata": {},
   "outputs": [
    {
     "name": "stdout",
     "output_type": "stream",
     "text": [
      "Total books in our pivot table :  47178\n",
      "Random book Index :  30497\n"
     ]
    }
   ],
   "source": [
    "# 隨機選擇一本書\n",
    "total_no_of_books = book_features_df.shape[0]\n",
    "print('Total books in our pivot table : ', total_no_of_books)\n",
    "random_book_index = np.random.choice(total_no_of_books)\n",
    "print('Random book Index : ', random_book_index)"
   ]
  },
  {
   "cell_type": "code",
   "execution_count": 19,
   "id": "725a3cdb",
   "metadata": {},
   "outputs": [
    {
     "data": {
      "text/plain": [
       "user_id\n",
       "0       0.0\n",
       "1       0.0\n",
       "2       0.0\n",
       "3       0.0\n",
       "4       0.0\n",
       "       ... \n",
       "8906    0.0\n",
       "8907    0.0\n",
       "8908    0.0\n",
       "8909    0.0\n",
       "8910    0.0\n",
       "Name: 9789863564935, Length: 8911, dtype: float64"
      ]
     },
     "execution_count": 19,
     "metadata": {},
     "output_type": "execute_result"
    }
   ],
   "source": [
    "book_features_df.iloc[random_book_index]"
   ]
  },
  {
   "cell_type": "code",
   "execution_count": 20,
   "id": "40b0ab33",
   "metadata": {},
   "outputs": [
    {
     "data": {
      "text/plain": [
       "array([[0., 0., 0., ..., 0., 0., 0.]])"
      ]
     },
     "execution_count": 20,
     "metadata": {},
     "output_type": "execute_result"
    }
   ],
   "source": [
    "# 向量顯示 random_book\n",
    "one_dimensional_representation_of_book_vector = book_features_df.iloc[random_book_index].values.reshape(1, -1)\n",
    "one_dimensional_representation_of_book_vector"
   ]
  },
  {
   "cell_type": "code",
   "execution_count": 21,
   "id": "de69e75d",
   "metadata": {},
   "outputs": [
    {
     "name": "stdout",
     "output_type": "stream",
     "text": [
      "Distance : [[0. 0. 0. 1. 1. 1.]]\n",
      "Indices : [[30497 32932 31169 31453 31454 31452]]\n"
     ]
    }
   ],
   "source": [
    "# 相似書本與 random_book 的餘弦距離指數\n",
    "distances, indices = nearest_neighbor_model.kneighbors(one_dimensional_representation_of_book_vector, n_neighbors = 6)\n",
    "print('Distance :', distances)\n",
    "print('Indices :', indices)"
   ]
  },
  {
   "cell_type": "code",
   "execution_count": 22,
   "id": "45409215",
   "metadata": {},
   "outputs": [
    {
     "name": "stdout",
     "output_type": "stream",
     "text": [
      "Recommendations for 9789863564935:\n",
      "\n",
      "1: 9789864733156, with distance of 0.0\n",
      "2: 9789863666646, with distance of 0.0\n",
      "3: 9789863844679, with distance of 1.0\n",
      "4: 9789863844693, with distance of 1.0\n",
      "5: 9789863844662, with distance of 1.0\n"
     ]
    }
   ],
   "source": [
    "indices = indices.flatten()\n",
    "distances = distances.flatten()\n",
    "for i in range(0, len(indices)):\n",
    "    ## same book\n",
    "    if i == 0:\n",
    "        print('Recommendations for {0}:\\n'.format(book_features_df.index[random_book_index]))\n",
    "    else:\n",
    "        ## similar books\n",
    "        print('{0}: {1}, with distance of {2}'.format(i, book_features_df.index[indices[i]], distances[i]))"
   ]
  },
  {
   "cell_type": "code",
   "execution_count": 23,
   "id": "2b6ac45f",
   "metadata": {},
   "outputs": [],
   "source": [
    "# 找出全部書本的相似資料集 \n",
    "my_dict = {}\n",
    "for book_index in range(book_features_df.shape[0]):\n",
    "    \n",
    "    one_dimensional_representation_of_book_vector = book_features_df.iloc[book_index].values.reshape(1, -1)\n",
    "    distances, indices = nearest_neighbor_model.kneighbors(one_dimensional_representation_of_book_vector, n_neighbors = 4)\n",
    "    indices = indices.flatten()\n",
    "    distances = distances.flatten()\n",
    "    similar_books = []\n",
    "    \n",
    "    for i in range(0, len(indices)):\n",
    "        ## same book\n",
    "        if i == 0:\n",
    "            original_book = book_features_df.index[book_index]\n",
    "        else:\n",
    "            ## similar books\n",
    "            similar_books.append(book_features_df.index[indices[i]])\n",
    "\n",
    "        my_dict[original_book] = similar_books"
   ]
  },
  {
   "cell_type": "code",
   "execution_count": 24,
   "id": "e4be0867",
   "metadata": {},
   "outputs": [
    {
     "data": {
      "text/html": [
       "<div>\n",
       "<style scoped>\n",
       "    .dataframe tbody tr th:only-of-type {\n",
       "        vertical-align: middle;\n",
       "    }\n",
       "\n",
       "    .dataframe tbody tr th {\n",
       "        vertical-align: top;\n",
       "    }\n",
       "\n",
       "    .dataframe thead th {\n",
       "        text-align: right;\n",
       "    }\n",
       "</style>\n",
       "<table border=\"1\" class=\"dataframe\">\n",
       "  <thead>\n",
       "    <tr style=\"text-align: right;\">\n",
       "      <th></th>\n",
       "      <th>1st_Similar_book</th>\n",
       "      <th>2nd_Similar_book</th>\n",
       "      <th>3rd_Similar_book</th>\n",
       "    </tr>\n",
       "  </thead>\n",
       "  <tbody>\n",
       "    <tr>\n",
       "      <th>1905302050014</th>\n",
       "      <td>9789571050997</td>\n",
       "      <td>9789573330158</td>\n",
       "      <td>9789571050775</td>\n",
       "    </tr>\n",
       "    <tr>\n",
       "      <th>1907082050017</th>\n",
       "      <td>9789571050997</td>\n",
       "      <td>9789573330158</td>\n",
       "      <td>9789571050775</td>\n",
       "    </tr>\n",
       "    <tr>\n",
       "      <th>4710415386243</th>\n",
       "      <td>9789869455220</td>\n",
       "      <td>9789578039407</td>\n",
       "      <td>9789865882471</td>\n",
       "    </tr>\n",
       "    <tr>\n",
       "      <th>4710614360792</th>\n",
       "      <td>9789571002798</td>\n",
       "      <td>9789571002767</td>\n",
       "      <td>9789571002736</td>\n",
       "    </tr>\n",
       "    <tr>\n",
       "      <th>4710614360808</th>\n",
       "      <td>9789571002798</td>\n",
       "      <td>9789571002767</td>\n",
       "      <td>9789571002736</td>\n",
       "    </tr>\n",
       "  </tbody>\n",
       "</table>\n",
       "</div>"
      ],
      "text/plain": [
       "              1st_Similar_book 2nd_Similar_book 3rd_Similar_book\n",
       "1905302050014    9789571050997    9789573330158    9789571050775\n",
       "1907082050017    9789571050997    9789573330158    9789571050775\n",
       "4710415386243    9789869455220    9789578039407    9789865882471\n",
       "4710614360792    9789571002798    9789571002767    9789571002736\n",
       "4710614360808    9789571002798    9789571002767    9789571002736"
      ]
     },
     "execution_count": 24,
     "metadata": {},
     "output_type": "execute_result"
    }
   ],
   "source": [
    "# 秀出前三本相似\n",
    "recommended_book_df = pd.DataFrame(my_dict)\n",
    "recommended_book_df = recommended_book_df.T\n",
    "recommended_book_df.columns = ['1st_Similar_book', '2nd_Similar_book', '3rd_Similar_book']\n",
    "recommended_book_df.head()"
   ]
  },
  {
   "cell_type": "code",
   "execution_count": 25,
   "id": "b80ee8af",
   "metadata": {},
   "outputs": [
    {
     "name": "stdout",
     "output_type": "stream",
     "text": [
      "I have book recommendatation for you: \n",
      "\n",
      "9780060731328\n",
      "9789868459236\n",
      "9789863202899\n"
     ]
    }
   ],
   "source": [
    "# 書本推薦\n",
    "book_name = \"9789862134467\"\n",
    "result = recommended_book_df.loc[book_name, : ]\n",
    "print('I have book recommendatation for you: \\n')\n",
    "for books in list(result.values):\n",
    "      print(books)"
   ]
  },
  {
   "cell_type": "code",
   "execution_count": null,
   "id": "7a5b5279",
   "metadata": {},
   "outputs": [],
   "source": []
  }
 ],
 "metadata": {
  "kernelspec": {
   "display_name": "Python 3",
   "language": "python",
   "name": "python3"
  },
  "language_info": {
   "codemirror_mode": {
    "name": "ipython",
    "version": 3
   },
   "file_extension": ".py",
   "mimetype": "text/x-python",
   "name": "python",
   "nbconvert_exporter": "python",
   "pygments_lexer": "ipython3",
   "version": "3.8.10"
  }
 },
 "nbformat": 4,
 "nbformat_minor": 5
}
