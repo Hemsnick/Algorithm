{
 "cells": [
  {
   "cell_type": "code",
   "execution_count": 1,
   "id": "5ab2389f",
   "metadata": {},
   "outputs": [],
   "source": [
    "import pandas as pd\n",
    "import jieba\n",
    "import jieba.analyse\n",
    "from sklearn.decomposition import PCA"
   ]
  },
  {
   "cell_type": "code",
   "execution_count": 2,
   "id": "dfd012de",
   "metadata": {},
   "outputs": [
    {
     "data": {
      "text/html": [
       "<div>\n",
       "<style scoped>\n",
       "    .dataframe tbody tr th:only-of-type {\n",
       "        vertical-align: middle;\n",
       "    }\n",
       "\n",
       "    .dataframe tbody tr th {\n",
       "        vertical-align: top;\n",
       "    }\n",
       "\n",
       "    .dataframe thead th {\n",
       "        text-align: right;\n",
       "    }\n",
       "</style>\n",
       "<table border=\"1\" class=\"dataframe\">\n",
       "  <thead>\n",
       "    <tr style=\"text-align: right;\">\n",
       "      <th></th>\n",
       "      <th>書名</th>\n",
       "      <th>書籍網站</th>\n",
       "      <th>作者</th>\n",
       "      <th>出版社</th>\n",
       "      <th>ISBN</th>\n",
       "      <th>圖片網址</th>\n",
       "      <th>書籍簡介</th>\n",
       "      <th>類別</th>\n",
       "    </tr>\n",
       "  </thead>\n",
       "  <tbody>\n",
       "    <tr>\n",
       "      <th>0</th>\n",
       "      <td>瞄過一眼就忘不了的世界史：高中老師╳神級YouTuber 2，000萬次點閱的超人氣課程</td>\n",
       "      <td>https://www.kingstone.com.tw//basic/2017110045...</td>\n",
       "      <td>山崎圭一</td>\n",
       "      <td>野人文化</td>\n",
       "      <td>9789863844433</td>\n",
       "      <td>https://cdn.kingstone.com.tw/book/images/produ...</td>\n",
       "      <td>高中老師╳神級YouTuber╳最強「圖像記憶法」★2,000萬次點閱的超人氣課程！★狂銷3...</td>\n",
       "      <td>文化</td>\n",
       "    </tr>\n",
       "    <tr>\n",
       "      <th>1</th>\n",
       "      <td>大戰略：耶魯大學長紅20年大師課程，從歷史提煉的領導決策心法</td>\n",
       "      <td>https://www.kingstone.com.tw//basic/2015410301...</td>\n",
       "      <td>約翰．路易斯．蓋迪斯</td>\n",
       "      <td>聯經</td>\n",
       "      <td>9789570856712</td>\n",
       "      <td>https://cdn.kingstone.com.tw/book/images/produ...</td>\n",
       "      <td>金石堂強力推薦書 !★耶魯大學長紅20年的戰略大師課★★投資銀行摩根大通必讀清單★★Amaz...</td>\n",
       "      <td>文化</td>\n",
       "    </tr>\n",
       "    <tr>\n",
       "      <th>2</th>\n",
       "      <td>歷史學的探究與實作操作手冊</td>\n",
       "      <td>https://www.kingstone.com.tw//basic/2015240255...</td>\n",
       "      <td>陳建守、韓承樺、張育甄、萬雅筑</td>\n",
       "      <td>臺灣商務</td>\n",
       "      <td>9789570533446</td>\n",
       "      <td>https://cdn.kingstone.com.tw/book/images/produ...</td>\n",
       "      <td>108課綱歷史科目「探究與實作」課程規劃設計參考指南！一次解決 主題設定、課程活動、參考書目...</td>\n",
       "      <td>文化</td>\n",
       "    </tr>\n",
       "    <tr>\n",
       "      <th>3</th>\n",
       "      <td>忘了自己是動物的人類：重思生命起源的歷史與身而為人的意義</td>\n",
       "      <td>https://www.kingstone.com.tw//basic/2011730257...</td>\n",
       "      <td>梅蘭妮．查林傑</td>\n",
       "      <td>商周出版</td>\n",
       "      <td>9789864779376</td>\n",
       "      <td>https://cdn.kingstone.com.tw/book/images/produ...</td>\n",
       "      <td>最優美的生命起源敘事，重思人類身為動物的美麗與哀愁英、美、加、德、義、荷、葡、俄、西、台灣十...</td>\n",
       "      <td>運動</td>\n",
       "    </tr>\n",
       "    <tr>\n",
       "      <th>4</th>\n",
       "      <td>西方憑什麼：五萬年人類大歷史，破解中國落後之謎</td>\n",
       "      <td>https://www.kingstone.com.tw//basic/2017130022...</td>\n",
       "      <td>伊安．摩里士</td>\n",
       "      <td>雅言文化</td>\n",
       "      <td>9789868271272</td>\n",
       "      <td>https://cdn.kingstone.com.tw/book/images/produ...</td>\n",
       "      <td>美國筆會書獎、德國GetAbstract國際財經書獎 美國、英國、中國、德國暢銷書 書開頭...</td>\n",
       "      <td>宗教</td>\n",
       "    </tr>\n",
       "  </tbody>\n",
       "</table>\n",
       "</div>"
      ],
      "text/plain": [
       "                                             書名  \\\n",
       "0  瞄過一眼就忘不了的世界史：高中老師╳神級YouTuber 2，000萬次點閱的超人氣課程   \n",
       "1                大戰略：耶魯大學長紅20年大師課程，從歷史提煉的領導決策心法   \n",
       "2                                 歷史學的探究與實作操作手冊   \n",
       "3                  忘了自己是動物的人類：重思生命起源的歷史與身而為人的意義   \n",
       "4                       西方憑什麼：五萬年人類大歷史，破解中國落後之謎   \n",
       "\n",
       "                                                書籍網站               作者  \\\n",
       "0  https://www.kingstone.com.tw//basic/2017110045...             山崎圭一   \n",
       "1  https://www.kingstone.com.tw//basic/2015410301...       約翰．路易斯．蓋迪斯   \n",
       "2  https://www.kingstone.com.tw//basic/2015240255...  陳建守、韓承樺、張育甄、萬雅筑   \n",
       "3  https://www.kingstone.com.tw//basic/2011730257...          梅蘭妮．查林傑   \n",
       "4  https://www.kingstone.com.tw//basic/2017130022...           伊安．摩里士   \n",
       "\n",
       "        出版社           ISBN                                               圖片網址  \\\n",
       "0    野人文化    9789863844433  https://cdn.kingstone.com.tw/book/images/produ...   \n",
       "1  聯經        9789570856712  https://cdn.kingstone.com.tw/book/images/produ...   \n",
       "2    臺灣商務    9789570533446  https://cdn.kingstone.com.tw/book/images/produ...   \n",
       "3    商周出版    9789864779376  https://cdn.kingstone.com.tw/book/images/produ...   \n",
       "4    雅言文化    9789868271272  https://cdn.kingstone.com.tw/book/images/produ...   \n",
       "\n",
       "                                                書籍簡介  類別  \n",
       "0  高中老師╳神級YouTuber╳最強「圖像記憶法」★2,000萬次點閱的超人氣課程！★狂銷3...  文化  \n",
       "1  金石堂強力推薦書 !★耶魯大學長紅20年的戰略大師課★★投資銀行摩根大通必讀清單★★Amaz...  文化  \n",
       "2  108課綱歷史科目「探究與實作」課程規劃設計參考指南！一次解決 主題設定、課程活動、參考書目...  文化  \n",
       "3  最優美的生命起源敘事，重思人類身為動物的美麗與哀愁英、美、加、德、義、荷、葡、俄、西、台灣十...  運動  \n",
       "4   美國筆會書獎、德國GetAbstract國際財經書獎 美國、英國、中國、德國暢銷書 書開頭...  宗教  "
      ]
     },
     "execution_count": 2,
     "metadata": {},
     "output_type": "execute_result"
    }
   ],
   "source": [
    "df=pd.read_json('./categ.json',lines=True)\n",
    "df.head()"
   ]
  },
  {
   "cell_type": "code",
   "execution_count": 3,
   "id": "c66ff7e9",
   "metadata": {
    "code_folding": []
   },
   "outputs": [],
   "source": [
    "df['words'] = df['書名']+'，' + df['書籍簡介']"
   ]
  },
  {
   "cell_type": "code",
   "execution_count": 4,
   "id": "834b10d8",
   "metadata": {},
   "outputs": [],
   "source": [
    "del df['書籍網站'],df['作者'],df['出版社'],df['圖片網址'],df['書籍簡介'],df['類別']"
   ]
  },
  {
   "cell_type": "code",
   "execution_count": 5,
   "id": "89484927",
   "metadata": {},
   "outputs": [],
   "source": [
    "stop_words_list=[]\n",
    "with open(file='./stop_words.txt',mode='r', encoding=\"UTF-8\") as file:\n",
    "    for line in file:\n",
    "        line = line.strip()\n",
    "        stop_words_list.append(line)"
   ]
  },
  {
   "cell_type": "code",
   "execution_count": 6,
   "id": "57f98074",
   "metadata": {},
   "outputs": [],
   "source": [
    "stop_words='|'.join(stop_words_list)"
   ]
  },
  {
   "cell_type": "code",
   "execution_count": 7,
   "id": "89108463",
   "metadata": {},
   "outputs": [],
   "source": [
    "kill1='[^\\w\\s]+'"
   ]
  },
  {
   "cell_type": "code",
   "execution_count": 8,
   "id": "2c932e51",
   "metadata": {
    "scrolled": false
   },
   "outputs": [
    {
     "name": "stderr",
     "output_type": "stream",
     "text": [
      "<ipython-input-8-41bde5161b90>:1: FutureWarning: The default value of regex will change from True to False in a future version.\n",
      "  df['words']=df.words.str.replace(stop_words,'')\n"
     ]
    }
   ],
   "source": [
    "df['words']=df.words.str.replace(stop_words,'')"
   ]
  },
  {
   "cell_type": "code",
   "execution_count": 9,
   "id": "48d92697",
   "metadata": {},
   "outputs": [
    {
     "name": "stderr",
     "output_type": "stream",
     "text": [
      "<ipython-input-9-a42d3da4e59a>:2: FutureWarning: The default value of regex will change from True to False in a future version.\n",
      "  df['words']=df.words.str.replace(kill1,'')\n"
     ]
    }
   ],
   "source": [
    "kill1='[^\\w\\s]+'\n",
    "df['words']=df.words.str.replace(kill1,'')"
   ]
  },
  {
   "cell_type": "code",
   "execution_count": 10,
   "id": "33ec3e72",
   "metadata": {
    "scrolled": false
   },
   "outputs": [
    {
     "data": {
      "text/html": [
       "<div>\n",
       "<style scoped>\n",
       "    .dataframe tbody tr th:only-of-type {\n",
       "        vertical-align: middle;\n",
       "    }\n",
       "\n",
       "    .dataframe tbody tr th {\n",
       "        vertical-align: top;\n",
       "    }\n",
       "\n",
       "    .dataframe thead th {\n",
       "        text-align: right;\n",
       "    }\n",
       "</style>\n",
       "<table border=\"1\" class=\"dataframe\">\n",
       "  <thead>\n",
       "    <tr style=\"text-align: right;\">\n",
       "      <th></th>\n",
       "      <th>書名</th>\n",
       "      <th>ISBN</th>\n",
       "      <th>words</th>\n",
       "    </tr>\n",
       "  </thead>\n",
       "  <tbody>\n",
       "    <tr>\n",
       "      <th>0</th>\n",
       "      <td>瞄過一眼就忘不了的世界史：高中老師╳神級YouTuber 2，000萬次點閱的超人氣課程</td>\n",
       "      <td>9789863844433</td>\n",
       "      <td>瞄過一眼忘不世界史高中老師神級YouTur 2000萬次點閱超人氣課程高中老師神級YouTu...</td>\n",
       "    </tr>\n",
       "    <tr>\n",
       "      <th>1</th>\n",
       "      <td>大戰略：耶魯大學長紅20年大師課程，從歷史提煉的領導決策心法</td>\n",
       "      <td>9789570856712</td>\n",
       "      <td>大戰略耶魯大學長紅20年大師課程從歷史提煉領導決策心法金石堂強力推薦書 耶魯大學長紅20年戰...</td>\n",
       "    </tr>\n",
       "    <tr>\n",
       "      <th>2</th>\n",
       "      <td>歷史學的探究與實作操作手冊</td>\n",
       "      <td>9789570533446</td>\n",
       "      <td>歷史學探究實作操作手冊108課綱歷史科目探究實作課程規劃設計參考指南一次解決 主題設定課程活...</td>\n",
       "    </tr>\n",
       "    <tr>\n",
       "      <th>3</th>\n",
       "      <td>忘了自己是動物的人類：重思生命起源的歷史與身而為人的意義</td>\n",
       "      <td>9789864779376</td>\n",
       "      <td>忘自己動物人類重思生命起源歷史身為人意義最優美生命起源敘事重思人類身為動物美麗哀愁英美加德義...</td>\n",
       "    </tr>\n",
       "    <tr>\n",
       "      <th>4</th>\n",
       "      <td>西方憑什麼：五萬年人類大歷史，破解中國落後之謎</td>\n",
       "      <td>9789868271272</td>\n",
       "      <td>西方憑什麼五萬年人類大歷史破解中國落後之謎 美國筆會書獎德國GetAbstract國際財經書...</td>\n",
       "    </tr>\n",
       "  </tbody>\n",
       "</table>\n",
       "</div>"
      ],
      "text/plain": [
       "                                             書名           ISBN  \\\n",
       "0  瞄過一眼就忘不了的世界史：高中老師╳神級YouTuber 2，000萬次點閱的超人氣課程  9789863844433   \n",
       "1                大戰略：耶魯大學長紅20年大師課程，從歷史提煉的領導決策心法  9789570856712   \n",
       "2                                 歷史學的探究與實作操作手冊  9789570533446   \n",
       "3                  忘了自己是動物的人類：重思生命起源的歷史與身而為人的意義  9789864779376   \n",
       "4                       西方憑什麼：五萬年人類大歷史，破解中國落後之謎  9789868271272   \n",
       "\n",
       "                                               words  \n",
       "0  瞄過一眼忘不世界史高中老師神級YouTur 2000萬次點閱超人氣課程高中老師神級YouTu...  \n",
       "1  大戰略耶魯大學長紅20年大師課程從歷史提煉領導決策心法金石堂強力推薦書 耶魯大學長紅20年戰...  \n",
       "2  歷史學探究實作操作手冊108課綱歷史科目探究實作課程規劃設計參考指南一次解決 主題設定課程活...  \n",
       "3  忘自己動物人類重思生命起源歷史身為人意義最優美生命起源敘事重思人類身為動物美麗哀愁英美加德義...  \n",
       "4  西方憑什麼五萬年人類大歷史破解中國落後之謎 美國筆會書獎德國GetAbstract國際財經書...  "
      ]
     },
     "execution_count": 10,
     "metadata": {},
     "output_type": "execute_result"
    }
   ],
   "source": [
    "df.head()"
   ]
  },
  {
   "cell_type": "code",
   "execution_count": 11,
   "id": "8bd573ba",
   "metadata": {},
   "outputs": [],
   "source": [
    "jieba.set_dictionary('./dict.txt.big')"
   ]
  },
  {
   "cell_type": "code",
   "execution_count": 12,
   "id": "8dae01d3",
   "metadata": {},
   "outputs": [],
   "source": [
    "df_1=df.iloc[:500,:]"
   ]
  },
  {
   "cell_type": "code",
   "execution_count": 13,
   "id": "2510a7cc",
   "metadata": {},
   "outputs": [
    {
     "name": "stderr",
     "output_type": "stream",
     "text": [
      "Building prefix dict from C:\\Users\\Tibame\\Desktop\\readmoo\\dict.txt.big ...\n",
      "Loading model from cache C:\\Users\\Tibame\\AppData\\Local\\Temp\\jieba.u6479a9542c539c09597b2dcade53eab6.cache\n",
      "Loading model cost 1.147 seconds.\n",
      "Prefix dict has been built successfully.\n",
      "<ipython-input-13-2efd56d07b86>:6: SettingWithCopyWarning: \n",
      "A value is trying to be set on a copy of a slice from a DataFrame.\n",
      "Try using .loc[row_indexer,col_indexer] = value instead\n",
      "\n",
      "See the caveats in the documentation: https://pandas.pydata.org/pandas-docs/stable/user_guide/indexing.html#returning-a-view-versus-a-copy\n",
      "  df_1['cut_word']=df_1['words'].apply(cut_word)\n"
     ]
    }
   ],
   "source": [
    "def cut_word(word):\n",
    "    cw=jieba.cut(word)\n",
    "    result=' '.join(cw)\n",
    "    tags=jieba.analyse.extract_tags(result,topK=10,allowPOS=('n','a','ns','nz','v'))\n",
    "    return ','.join(tags)\n",
    "df_1['cut_word']=df_1['words'].apply(cut_word)\n"
   ]
  },
  {
   "cell_type": "code",
   "execution_count": 14,
   "id": "1cdba790",
   "metadata": {},
   "outputs": [
    {
     "data": {
      "text/html": [
       "<div>\n",
       "<style scoped>\n",
       "    .dataframe tbody tr th:only-of-type {\n",
       "        vertical-align: middle;\n",
       "    }\n",
       "\n",
       "    .dataframe tbody tr th {\n",
       "        vertical-align: top;\n",
       "    }\n",
       "\n",
       "    .dataframe thead th {\n",
       "        text-align: right;\n",
       "    }\n",
       "</style>\n",
       "<table border=\"1\" class=\"dataframe\">\n",
       "  <thead>\n",
       "    <tr style=\"text-align: right;\">\n",
       "      <th></th>\n",
       "      <th>書名</th>\n",
       "      <th>ISBN</th>\n",
       "      <th>words</th>\n",
       "      <th>cut_word</th>\n",
       "    </tr>\n",
       "  </thead>\n",
       "  <tbody>\n",
       "    <tr>\n",
       "      <th>0</th>\n",
       "      <td>瞄過一眼就忘不了的世界史：高中老師╳神級YouTuber 2，000萬次點閱的超人氣課程</td>\n",
       "      <td>9789863844433</td>\n",
       "      <td>瞄過一眼忘不世界史高中老師神級YouTur 2000萬次點閱超人氣課程高中老師神級YouTu...</td>\n",
       "      <td>世界史,神級,考前,年表,死背,事件,高分,故事,好看,特色</td>\n",
       "    </tr>\n",
       "    <tr>\n",
       "      <th>1</th>\n",
       "      <td>大戰略：耶魯大學長紅20年大師課程，從歷史提煉的領導決策心法</td>\n",
       "      <td>9789570856712</td>\n",
       "      <td>大戰略耶魯大學長紅20年大師課程從歷史提煉領導決策心法金石堂強力推薦書 耶魯大學長紅20年戰...</td>\n",
       "      <td>狐狸,甘迺迪,掌握,學程,失準,政策,心法,探看,政治,全局</td>\n",
       "    </tr>\n",
       "    <tr>\n",
       "      <th>2</th>\n",
       "      <td>歷史學的探究與實作操作手冊</td>\n",
       "      <td>9789570533446</td>\n",
       "      <td>歷史學探究實作操作手冊108課綱歷史科目探究實作課程規劃設計參考指南一次解決 主題設定課程活...</td>\n",
       "      <td>課綱,全彩,桌遊,社群,指引,作為,作品,提供,思考,答案</td>\n",
       "    </tr>\n",
       "    <tr>\n",
       "      <th>3</th>\n",
       "      <td>忘了自己是動物的人類：重思生命起源的歷史與身而為人的意義</td>\n",
       "      <td>9789864779376</td>\n",
       "      <td>忘自己動物人類重思生命起源歷史身為人意義最優美生命起源敘事重思人類身為動物美麗哀愁英美加德義...</td>\n",
       "      <td>認為,身為,重思,台灣,起源,思考,星球,人性,狂想,故事</td>\n",
       "    </tr>\n",
       "    <tr>\n",
       "      <th>4</th>\n",
       "      <td>西方憑什麼：五萬年人類大歷史，破解中國落後之謎</td>\n",
       "      <td>9789868271272</td>\n",
       "      <td>西方憑什麼五萬年人類大歷史破解中國落後之謎 美國筆會書獎德國GetAbstract國際財經書...</td>\n",
       "      <td>書獎,地理,病菌,中西,前人,女王,衰退,征服,冰帽,主宰世界</td>\n",
       "    </tr>\n",
       "  </tbody>\n",
       "</table>\n",
       "</div>"
      ],
      "text/plain": [
       "                                             書名           ISBN  \\\n",
       "0  瞄過一眼就忘不了的世界史：高中老師╳神級YouTuber 2，000萬次點閱的超人氣課程  9789863844433   \n",
       "1                大戰略：耶魯大學長紅20年大師課程，從歷史提煉的領導決策心法  9789570856712   \n",
       "2                                 歷史學的探究與實作操作手冊  9789570533446   \n",
       "3                  忘了自己是動物的人類：重思生命起源的歷史與身而為人的意義  9789864779376   \n",
       "4                       西方憑什麼：五萬年人類大歷史，破解中國落後之謎  9789868271272   \n",
       "\n",
       "                                               words  \\\n",
       "0  瞄過一眼忘不世界史高中老師神級YouTur 2000萬次點閱超人氣課程高中老師神級YouTu...   \n",
       "1  大戰略耶魯大學長紅20年大師課程從歷史提煉領導決策心法金石堂強力推薦書 耶魯大學長紅20年戰...   \n",
       "2  歷史學探究實作操作手冊108課綱歷史科目探究實作課程規劃設計參考指南一次解決 主題設定課程活...   \n",
       "3  忘自己動物人類重思生命起源歷史身為人意義最優美生命起源敘事重思人類身為動物美麗哀愁英美加德義...   \n",
       "4  西方憑什麼五萬年人類大歷史破解中國落後之謎 美國筆會書獎德國GetAbstract國際財經書...   \n",
       "\n",
       "                          cut_word  \n",
       "0   世界史,神級,考前,年表,死背,事件,高分,故事,好看,特色  \n",
       "1   狐狸,甘迺迪,掌握,學程,失準,政策,心法,探看,政治,全局  \n",
       "2    課綱,全彩,桌遊,社群,指引,作為,作品,提供,思考,答案  \n",
       "3    認為,身為,重思,台灣,起源,思考,星球,人性,狂想,故事  \n",
       "4  書獎,地理,病菌,中西,前人,女王,衰退,征服,冰帽,主宰世界  "
      ]
     },
     "execution_count": 14,
     "metadata": {},
     "output_type": "execute_result"
    }
   ],
   "source": [
    "df_1.head()"
   ]
  },
  {
   "cell_type": "code",
   "execution_count": 15,
   "id": "34cd7cee",
   "metadata": {},
   "outputs": [],
   "source": [
    "dummies=  df_1['cut_word'].str.get_dummies(',')"
   ]
  },
  {
   "cell_type": "code",
   "execution_count": 16,
   "id": "fc6e8488",
   "metadata": {},
   "outputs": [
    {
     "data": {
      "text/html": [
       "<div>\n",
       "<style scoped>\n",
       "    .dataframe tbody tr th:only-of-type {\n",
       "        vertical-align: middle;\n",
       "    }\n",
       "\n",
       "    .dataframe tbody tr th {\n",
       "        vertical-align: top;\n",
       "    }\n",
       "\n",
       "    .dataframe thead th {\n",
       "        text-align: right;\n",
       "    }\n",
       "</style>\n",
       "<table border=\"1\" class=\"dataframe\">\n",
       "  <thead>\n",
       "    <tr style=\"text-align: right;\">\n",
       "      <th></th>\n",
       "      <th>一串串</th>\n",
       "      <th>一介</th>\n",
       "      <th>一大</th>\n",
       "      <th>一座座</th>\n",
       "      <th>一般</th>\n",
       "      <th>一足</th>\n",
       "      <th>七大洲</th>\n",
       "      <th>七色</th>\n",
       "      <th>三星</th>\n",
       "      <th>三洲</th>\n",
       "      <th>...</th>\n",
       "      <th>魔法</th>\n",
       "      <th>黑幕</th>\n",
       "      <th>黑死病</th>\n",
       "      <th>黑洞</th>\n",
       "      <th>黑海</th>\n",
       "      <th>鼎立</th>\n",
       "      <th>鼓舞</th>\n",
       "      <th>鼠疫</th>\n",
       "      <th>鼻水</th>\n",
       "      <th>龜速</th>\n",
       "    </tr>\n",
       "  </thead>\n",
       "  <tbody>\n",
       "    <tr>\n",
       "      <th>0</th>\n",
       "      <td>0</td>\n",
       "      <td>0</td>\n",
       "      <td>0</td>\n",
       "      <td>0</td>\n",
       "      <td>0</td>\n",
       "      <td>0</td>\n",
       "      <td>0</td>\n",
       "      <td>0</td>\n",
       "      <td>0</td>\n",
       "      <td>0</td>\n",
       "      <td>...</td>\n",
       "      <td>0</td>\n",
       "      <td>0</td>\n",
       "      <td>0</td>\n",
       "      <td>0</td>\n",
       "      <td>0</td>\n",
       "      <td>0</td>\n",
       "      <td>0</td>\n",
       "      <td>0</td>\n",
       "      <td>0</td>\n",
       "      <td>0</td>\n",
       "    </tr>\n",
       "    <tr>\n",
       "      <th>1</th>\n",
       "      <td>0</td>\n",
       "      <td>0</td>\n",
       "      <td>0</td>\n",
       "      <td>0</td>\n",
       "      <td>0</td>\n",
       "      <td>0</td>\n",
       "      <td>0</td>\n",
       "      <td>0</td>\n",
       "      <td>0</td>\n",
       "      <td>0</td>\n",
       "      <td>...</td>\n",
       "      <td>0</td>\n",
       "      <td>0</td>\n",
       "      <td>0</td>\n",
       "      <td>0</td>\n",
       "      <td>0</td>\n",
       "      <td>0</td>\n",
       "      <td>0</td>\n",
       "      <td>0</td>\n",
       "      <td>0</td>\n",
       "      <td>0</td>\n",
       "    </tr>\n",
       "    <tr>\n",
       "      <th>2</th>\n",
       "      <td>0</td>\n",
       "      <td>0</td>\n",
       "      <td>0</td>\n",
       "      <td>0</td>\n",
       "      <td>0</td>\n",
       "      <td>0</td>\n",
       "      <td>0</td>\n",
       "      <td>0</td>\n",
       "      <td>0</td>\n",
       "      <td>0</td>\n",
       "      <td>...</td>\n",
       "      <td>0</td>\n",
       "      <td>0</td>\n",
       "      <td>0</td>\n",
       "      <td>0</td>\n",
       "      <td>0</td>\n",
       "      <td>0</td>\n",
       "      <td>0</td>\n",
       "      <td>0</td>\n",
       "      <td>0</td>\n",
       "      <td>0</td>\n",
       "    </tr>\n",
       "    <tr>\n",
       "      <th>3</th>\n",
       "      <td>0</td>\n",
       "      <td>0</td>\n",
       "      <td>0</td>\n",
       "      <td>0</td>\n",
       "      <td>0</td>\n",
       "      <td>0</td>\n",
       "      <td>0</td>\n",
       "      <td>0</td>\n",
       "      <td>0</td>\n",
       "      <td>0</td>\n",
       "      <td>...</td>\n",
       "      <td>0</td>\n",
       "      <td>0</td>\n",
       "      <td>0</td>\n",
       "      <td>0</td>\n",
       "      <td>0</td>\n",
       "      <td>0</td>\n",
       "      <td>0</td>\n",
       "      <td>0</td>\n",
       "      <td>0</td>\n",
       "      <td>0</td>\n",
       "    </tr>\n",
       "    <tr>\n",
       "      <th>4</th>\n",
       "      <td>0</td>\n",
       "      <td>0</td>\n",
       "      <td>0</td>\n",
       "      <td>0</td>\n",
       "      <td>0</td>\n",
       "      <td>0</td>\n",
       "      <td>0</td>\n",
       "      <td>0</td>\n",
       "      <td>0</td>\n",
       "      <td>0</td>\n",
       "      <td>...</td>\n",
       "      <td>0</td>\n",
       "      <td>0</td>\n",
       "      <td>0</td>\n",
       "      <td>0</td>\n",
       "      <td>0</td>\n",
       "      <td>0</td>\n",
       "      <td>0</td>\n",
       "      <td>0</td>\n",
       "      <td>0</td>\n",
       "      <td>0</td>\n",
       "    </tr>\n",
       "  </tbody>\n",
       "</table>\n",
       "<p>5 rows × 2198 columns</p>\n",
       "</div>"
      ],
      "text/plain": [
       "   一串串  一介  一大  一座座  一般  一足  七大洲  七色  三星  三洲  ...  魔法  黑幕  黑死病  黑洞  黑海  鼎立  \\\n",
       "0    0   0   0    0   0   0    0   0   0   0  ...   0   0    0   0   0   0   \n",
       "1    0   0   0    0   0   0    0   0   0   0  ...   0   0    0   0   0   0   \n",
       "2    0   0   0    0   0   0    0   0   0   0  ...   0   0    0   0   0   0   \n",
       "3    0   0   0    0   0   0    0   0   0   0  ...   0   0    0   0   0   0   \n",
       "4    0   0   0    0   0   0    0   0   0   0  ...   0   0    0   0   0   0   \n",
       "\n",
       "   鼓舞  鼠疫  鼻水  龜速  \n",
       "0   0   0   0   0  \n",
       "1   0   0   0   0  \n",
       "2   0   0   0   0  \n",
       "3   0   0   0   0  \n",
       "4   0   0   0   0  \n",
       "\n",
       "[5 rows x 2198 columns]"
      ]
     },
     "execution_count": 16,
     "metadata": {},
     "output_type": "execute_result"
    }
   ],
   "source": [
    "dummies.head()"
   ]
  },
  {
   "cell_type": "code",
   "execution_count": 17,
   "id": "b69970ab",
   "metadata": {},
   "outputs": [],
   "source": [
    "X = dummies.values\n",
    "pca = PCA(n_components=2, whiten=True).fit(X)  # whiten=True 表示資料需要正規化\n",
    "X_pca = pca.transform(X)"
   ]
  },
  {
   "cell_type": "code",
   "execution_count": 50,
   "id": "b10618d6",
   "metadata": {},
   "outputs": [
    {
     "name": "stdout",
     "output_type": "stream",
     "text": [
      "[3 1 1 3 1 3 3 1 1 0 2 2 3 1 1 1 2 1 1 1 1 3 1 2 2 2 1 0 1 1 1 1 2 1 2 2 1\n",
      " 2 1 2 1 3 2 3 0 1 2 2 0 2 2 2 2 1 1 2 3 2 1 1 3 1 1 2 1 2 1 2 2 2 1 1 1 1\n",
      " 1 1 1 1 1 1 1 1 1 1 1 1 2 0 1 1 1 1 2 1 3 0 0 3 2 3 2 1 1 2 2 3 1 2 2 0 2\n",
      " 2 3 2 2 2 2 3 3 1 1 1 1 1 2 2 3 1 1 0 2 2 2 1 3 1 1 1 2 0 2 2 2 2 1 1 2 1\n",
      " 1 2 1 3 3 2 1 2 0 1 1 1 2 1 2 2 1 1 0 1 1 1 1 1 0 2 2 3 1 1 1 2 1 1 1 1 2\n",
      " 1 2 1 0 1 2 2 1 1 1 2 2 1 1 3 0 0 0 1 1 0 2 2 1 1 2 1 3 1 2 1 2 0 3 2 2 1\n",
      " 3 2 3 2 1 2 1 3 3 3 1 0 0 1 1 2 0 2 3 1 1 1 1 1 2 1 1 1 1 1 1 1 1 1 1 0 3\n",
      " 1 1 1 1 1 3 1 1 1 1 1 1 3 3 3 0 0 2 2 1 1 1 1 1 2 1 1 1 1 1 1 1 1 2 1 1 3\n",
      " 2 2 1 2 1 1 1 2 1 1 1 1 1 2 1 1 1 1 1 1 1 2 2 1 2 1 0 2 1 1 1 1 1 3 1 1 1\n",
      " 0 0 1 1 1 1 1 1 1 1 1 3 1 0 0 1 1 1 3 1 1 1 3 3 1 1 1 1 1 1 2 1 1 2 2 1 1\n",
      " 1 1 1 1 2 1 1 1 3 1 1 1 1 1 1 1 2 1 1 0 1 2 1 1 1 1 2 1 1 1 1 1 2 1 1 2 1\n",
      " 1 1 2 1 0 1 2 2 1 1 1 1 3 1 3 1 2 0 1 2 1 3 3 2 1 1 1 0 1 1 1 2 2 1 1 1 1\n",
      " 1 1 1 1 1 1 1 2 2 1 2 0 1 2 2 1 2 1 0 1 0 1 0 0 3 2 2 1 1 1 1 1 1 1 1 1 1\n",
      " 2 1 1 1 1 1 1 3 1 1 1 1 1 2 1 2 2 1 3]\n"
     ]
    },
    {
     "data": {
      "image/png": "[encoded data removed]",
      "text/plain": [
       "<Figure size 576x432 with 1 Axes>"
      ]
     },
     "metadata": {
      "needs_background": "light"
     },
     "output_type": "display_data"
    }
   ],
   "source": [
    "%matplotlib inline\n",
    "from sklearn.cluster import KMeans\n",
    "import matplotlib.pyplot as plt\n",
    "from sklearn.preprocessing import scale\n",
    "from numpy import random, float\n",
    "\n",
    "model = KMeans(n_clusters=4)\n",
    "model = model.fit(scale(X_pca))       # 對資料正規化很重要\n",
    "print(model.labels_)\n",
    "\n",
    "plt.figure(figsize=(8, 6))\n",
    "plt.scatter(X_pca[:,0], X_pca[:,1], c=model.labels_.astype(float))\n",
    "plt.show()"
   ]
  },
  {
   "cell_type": "code",
   "execution_count": 52,
   "id": "1cdfca5c",
   "metadata": {},
   "outputs": [
    {
     "name": "stdout",
     "output_type": "stream",
     "text": [
      "cluster:  0\n",
      "Index(['三洲', '下肚', '不衰', '世局', '亂入', '互勉', '五大洲', '人口', '人生', '代表', '住屋', '作因',\n",
      "       '作物', '侵略', '修改', '修為', '修身', '值得', '元史', '全史', '全圖', '全彩', '公益', '具象化',\n",
      "       '典故', '切合', '制度', '制霸', '力求', '力美', '印度河', '反送', '口述', '古城', '史人', '司令',\n",
      "       '合流', '同床', '同性'],\n",
      "      dtype='object')\n",
      "cluster:  1\n",
      "Index(['一介', '一大', '一般', '七色', '三星', '上古史', '上名', '上山下海', '上成', '上為',\n",
      "       ...\n",
      "       '吞噬', '吠陀', '否會', '否配', '含括', '含辱', '吳京', '吸引', '吸特樂', '呆板'],\n",
      "      dtype='object', length=291)\n",
      "cluster:  2\n",
      "Index(['上主', '上以', '上帝', '下以', '下台', '下平', '不同', '不好意思', '不存', '不懈',\n",
      "       ...\n",
      "       '台灣省', '史原', '史地', '史料', '同袍', '名主播', '吐瓦魯', '吸收', '吸血', '吹捧'],\n",
      "      dtype='object', length=120)\n",
      "cluster:  3\n",
      "Index(['一串串', '一座座', '一足', '七大洲', '上古', '上薩瓦省', '不為', '不美', '並成', '中古史', '二分法',\n",
      "       '亡者', '交手', '京郊', '人報', '人性化', '人情', '人民', '人面', '位具', '位大', '作者群',\n",
      "       '信念', '偷走', '元素', '先知', '光明', '入主中原', '入列', '全世界', '全景', '公眾', '共生',\n",
      "       '具啟', '具有', '具象', '冷血', '初升', '劇碼', '加拿大', '劫掠', '勒色林', '博友', '受用',\n",
      "       '叛逃', '古代篇', '古典', '同理', '否能', '告白'],\n",
      "      dtype='object')\n"
     ]
    }
   ],
   "source": [
    "import numpy as np\n",
    "pred_classes=model.labels_ \n",
    "\n",
    "for cluster in range(4):\n",
    "    print('cluster: ', cluster)\n",
    "    print(dummies.columns[np.where(pred_classes == cluster)])"
   ]
  },
  {
   "cell_type": "code",
   "execution_count": 19,
   "id": "454a996f",
   "metadata": {},
   "outputs": [],
   "source": [
    "# for i in range(1000):\n",
    "#     if model.labels_[i] == 1 :\n",
    "#         print( model.labels_[i])\n",
    "#     else:\n",
    "#         print(\"o\")"
   ]
  },
  {
   "cell_type": "code",
   "execution_count": 72,
   "id": "435ce230",
   "metadata": {},
   "outputs": [
    {
     "data": {
      "image/png": "[encoded data removed]",
      "text/plain": [
       "<Figure size 1440x1296 with 1 Axes>"
      ]
     },
     "metadata": {
      "needs_background": "light"
     },
     "output_type": "display_data"
    }
   ],
   "source": [
    "import scipy.cluster.hierarchy as sch\n",
    "from sklearn.cluster import AgglomerativeClustering\n",
    "plt.figure(figsize=(20, 18))\n",
    "dendogram = sch.dendrogram(sch.linkage(X, method= 'ward', metric = 'euclidean'))\n",
    "cluster= AgglomerativeClustering(n_clusters  = 5)\n",
    "cluster.fit(X)\n",
    "Y_pred_dendrogram = cluster.fit_predict(X)\n",
    "plt.title('Dendrogram')\n",
    "plt.show()"
   ]
  },
  {
   "cell_type": "code",
   "execution_count": 73,
   "id": "5d5249bc",
   "metadata": {},
   "outputs": [
    {
     "data": {
      "image/png": "[encoded data removed]",
      "text/plain": [
       "<Figure size 432x288 with 1 Axes>"
      ]
     },
     "metadata": {
      "needs_background": "light"
     },
     "output_type": "display_data"
    },
    {
     "ename": "NameError",
     "evalue": "name 'Y' is not defined",
     "output_type": "error",
     "traceback": [
      "\u001b[1;31m---------------------------------------------------------------------------\u001b[0m",
      "\u001b[1;31mNameError\u001b[0m                                 Traceback (most recent call last)",
      "\u001b[1;32m<ipython-input-73-805873f0f14c>\u001b[0m in \u001b[0;36m<module>\u001b[1;34m\u001b[0m\n\u001b[0;32m     15\u001b[0m \u001b[1;33m\u001b[0m\u001b[0m\n\u001b[0;32m     16\u001b[0m \u001b[0mhc\u001b[0m \u001b[1;33m=\u001b[0m \u001b[0mAgglomerativeClustering\u001b[0m\u001b[1;33m(\u001b[0m\u001b[0mn_clusters\u001b[0m \u001b[1;33m=\u001b[0m \u001b[1;36m5\u001b[0m\u001b[1;33m,\u001b[0m \u001b[0maffinity\u001b[0m \u001b[1;33m=\u001b[0m \u001b[1;34m'euclidean'\u001b[0m\u001b[1;33m,\u001b[0m \u001b[0mlinkage\u001b[0m \u001b[1;33m=\u001b[0m\u001b[1;34m'ward'\u001b[0m\u001b[1;33m)\u001b[0m\u001b[1;33m\u001b[0m\u001b[1;33m\u001b[0m\u001b[0m\n\u001b[1;32m---> 17\u001b[1;33m \u001b[0my_hc\u001b[0m\u001b[1;33m=\u001b[0m\u001b[0mhc\u001b[0m\u001b[1;33m.\u001b[0m\u001b[0mfit_predict\u001b[0m\u001b[1;33m(\u001b[0m\u001b[0mY\u001b[0m\u001b[1;33m)\u001b[0m\u001b[1;33m\u001b[0m\u001b[1;33m\u001b[0m\u001b[0m\n\u001b[0m",
      "\u001b[1;31mNameError\u001b[0m: name 'Y' is not defined"
     ]
    }
   ],
   "source": [
    "from sklearn.cluster import AgglomerativeClustering \n",
    "hc = AgglomerativeClustering(n_clusters = 5, affinity = 'euclidean', linkage ='ward')\n",
    "\n",
    "y_hc=hc.fit_predict(X)\n",
    "\n",
    "plt.scatter(X[y_hc==0, 0], X[y_hc==0, 1], s=100, c='red', label ='Cluster 1')\n",
    "plt.scatter(X[y_hc==1, 0], X[y_hc==1, 1], s=100, c='blue', label ='Cluster 2')\n",
    "plt.scatter(X[y_hc==2, 0], X[y_hc==2, 1], s=100, c='green', label ='Cluster 3')\n",
    "plt.scatter(X[y_hc==3, 0], X[y_hc==3, 1], s=100, c='cyan', label ='Cluster 4')\n",
    "plt.scatter(X[y_hc==4, 0], X[y_hc==4, 1], s=100, c='magenta', label ='Cluster 5')\n",
    "plt.title('Clusters of Customers (Hierarchical Clustering Model)')\n",
    "plt.xlabel('Annual Income(k$)')\n",
    "plt.ylabel('Spending Score(1-100')\n",
    "plt.show()\n",
    "\n",
    "hc = AgglomerativeClustering(n_clusters = 5, affinity = 'euclidean', linkage ='ward')\n",
    "y_hc=hc.fit_predict(Y)"
   ]
  }
 ],
 "metadata": {
  "kernelspec": {
   "display_name": "Python 3",
   "language": "python",
   "name": "python3"
  },
  "language_info": {
   "codemirror_mode": {
    "name": "ipython",
    "version": 3
   },
   "file_extension": ".py",
   "mimetype": "text/x-python",
   "name": "python",
   "nbconvert_exporter": "python",
   "pygments_lexer": "ipython3",
   "version": "3.8.10"
  }
 },
 "nbformat": 4,
 "nbformat_minor": 5
}
