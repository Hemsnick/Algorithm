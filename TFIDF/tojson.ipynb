{
 "cells": [
  {
   "cell_type": "code",
   "execution_count": 78,
   "id": "79f8a61b",
   "metadata": {},
   "outputs": [],
   "source": [
    "import pandas as pd\n",
    "import json"
   ]
  },
  {
   "cell_type": "code",
   "execution_count": 79,
   "id": "b7557e6f",
   "metadata": {},
   "outputs": [
    {
     "data": {
      "text/html": [
       "<div>\n",
       "<style scoped>\n",
       "    .dataframe tbody tr th:only-of-type {\n",
       "        vertical-align: middle;\n",
       "    }\n",
       "\n",
       "    .dataframe tbody tr th {\n",
       "        vertical-align: top;\n",
       "    }\n",
       "\n",
       "    .dataframe thead th {\n",
       "        text-align: right;\n",
       "    }\n",
       "</style>\n",
       "<table border=\"1\" class=\"dataframe\">\n",
       "  <thead>\n",
       "    <tr style=\"text-align: right;\">\n",
       "      <th></th>\n",
       "      <th>a</th>\n",
       "      <th>b</th>\n",
       "      <th>c</th>\n",
       "    </tr>\n",
       "  </thead>\n",
       "  <tbody>\n",
       "    <tr>\n",
       "      <th>0</th>\n",
       "      <td>1</td>\n",
       "      <td>2</td>\n",
       "      <td>3</td>\n",
       "    </tr>\n",
       "    <tr>\n",
       "      <th>1</th>\n",
       "      <td>4</td>\n",
       "      <td>5</td>\n",
       "      <td>2</td>\n",
       "    </tr>\n",
       "    <tr>\n",
       "      <th>2</th>\n",
       "      <td>2</td>\n",
       "      <td>3</td>\n",
       "      <td>6</td>\n",
       "    </tr>\n",
       "  </tbody>\n",
       "</table>\n",
       "</div>"
      ],
      "text/plain": [
       "   a  b  c\n",
       "0  1  2  3\n",
       "1  4  5  2\n",
       "2  2  3  6"
      ]
     },
     "execution_count": 79,
     "metadata": {},
     "output_type": "execute_result"
    }
   ],
   "source": [
    "# df=pd.read_json('test_not_send/comment.json')\n",
    "df=pd.read_json('abc.json') #lines = True use in {}{}{}\n",
    "df"
   ]
  },
  {
   "cell_type": "code",
   "execution_count": 81,
   "id": "34e91480",
   "metadata": {},
   "outputs": [],
   "source": [
    "# df.to_json('aaa.json',orient='records',force_ascii=False,lines=True) # output= {}{}{}\n",
    "df.to_json('aaa.json',orient='records',force_ascii=False) # output=[{},{},{}] 維持編碼"
   ]
  },
  {
   "cell_type": "code",
   "execution_count": 84,
   "id": "9232cdce",
   "metadata": {},
   "outputs": [
    {
     "data": {
      "text/html": [
       "<div>\n",
       "<style scoped>\n",
       "    .dataframe tbody tr th:only-of-type {\n",
       "        vertical-align: middle;\n",
       "    }\n",
       "\n",
       "    .dataframe tbody tr th {\n",
       "        vertical-align: top;\n",
       "    }\n",
       "\n",
       "    .dataframe thead th {\n",
       "        text-align: right;\n",
       "    }\n",
       "</style>\n",
       "<table border=\"1\" class=\"dataframe\">\n",
       "  <thead>\n",
       "    <tr style=\"text-align: right;\">\n",
       "      <th></th>\n",
       "      <th>a</th>\n",
       "      <th>b</th>\n",
       "      <th>c</th>\n",
       "    </tr>\n",
       "  </thead>\n",
       "  <tbody>\n",
       "    <tr>\n",
       "      <th>0</th>\n",
       "      <td>1</td>\n",
       "      <td>2</td>\n",
       "      <td>3</td>\n",
       "    </tr>\n",
       "    <tr>\n",
       "      <th>1</th>\n",
       "      <td>4</td>\n",
       "      <td>5</td>\n",
       "      <td>2</td>\n",
       "    </tr>\n",
       "    <tr>\n",
       "      <th>2</th>\n",
       "      <td>2</td>\n",
       "      <td>3</td>\n",
       "      <td>6</td>\n",
       "    </tr>\n",
       "    <tr>\n",
       "      <th>3</th>\n",
       "      <td>安</td>\n",
       "      <td>安</td>\n",
       "      <td>阿</td>\n",
       "    </tr>\n",
       "  </tbody>\n",
       "</table>\n",
       "</div>"
      ],
      "text/plain": [
       "   a  b  c\n",
       "0  1  2  3\n",
       "1  4  5  2\n",
       "2  2  3  6\n",
       "3  安  安  阿"
      ]
     },
     "execution_count": 84,
     "metadata": {},
     "output_type": "execute_result"
    }
   ],
   "source": [
    "df=pd.read_json('aaa.json')\n",
    "df"
   ]
  },
  {
   "cell_type": "code",
   "execution_count": 85,
   "id": "93df84fc",
   "metadata": {},
   "outputs": [],
   "source": [
    "df.to_json('aab.json',orient='records',force_ascii=False)"
   ]
  },
  {
   "cell_type": "code",
   "execution_count": 55,
   "id": "12c49caa",
   "metadata": {},
   "outputs": [
    {
     "data": {
      "text/html": [
       "<div>\n",
       "<style scoped>\n",
       "    .dataframe tbody tr th:only-of-type {\n",
       "        vertical-align: middle;\n",
       "    }\n",
       "\n",
       "    .dataframe tbody tr th {\n",
       "        vertical-align: top;\n",
       "    }\n",
       "\n",
       "    .dataframe thead th {\n",
       "        text-align: right;\n",
       "    }\n",
       "</style>\n",
       "<table border=\"1\" class=\"dataframe\">\n",
       "  <thead>\n",
       "    <tr style=\"text-align: right;\">\n",
       "      <th></th>\n",
       "      <th>ISBN</th>\n",
       "      <th>COMMENT</th>\n",
       "    </tr>\n",
       "  </thead>\n",
       "  <tbody>\n",
       "    <tr>\n",
       "      <th>0</th>\n",
       "      <td>9789868658301</td>\n",
       "      <td>\\r從另一角度重新思索2012的可能性，並由己身出發，重新探討如何開發全新的自我，以不同的角...</td>\n",
       "    </tr>\n",
       "    <tr>\n",
       "      <th>1</th>\n",
       "      <td>9789861752068</td>\n",
       "      <td>\\r力克胡哲的精神是值得大家學習的，不管遇到多困難的事情或挫折，永遠都能用最樂觀、積極的態度...</td>\n",
       "    </tr>\n",
       "    <tr>\n",
       "      <th>2</th>\n",
       "      <td>9789861750675</td>\n",
       "      <td>\\r祕密就存在於我自己，提供給想覺知及改變的朋友，透過每個摘要的提醒與練習，實際觀察所思所想...</td>\n",
       "    </tr>\n",
       "    <tr>\n",
       "      <th>3</th>\n",
       "      <td>9789861333090</td>\n",
       "      <td>\\r陶子姊真的是個很有智慧也十分坦白的知識女性。 你會看到男女之間相處的各種模式和問題還有內...</td>\n",
       "    </tr>\n",
       "    <tr>\n",
       "      <th>4</th>\n",
       "      <td>9789861371238</td>\n",
       "      <td>\\r這本書，是我第一次那麼認真、快速的看完一本書!他會有種讓人一直看下去的魔力，不會讓人覺得...</td>\n",
       "    </tr>\n",
       "    <tr>\n",
       "      <th>5</th>\n",
       "      <td>9789861206691</td>\n",
       "      <td>\\r非常棒的一本書,關於付出,付出不一定必須是花錢的,真心的付出,會很微妙的改變自已和周遭的...</td>\n",
       "    </tr>\n",
       "    <tr>\n",
       "      <th>6</th>\n",
       "      <td>9789866175183</td>\n",
       "      <td>\\r長期都有在關注薇薇的部落格,文章寫得很貼近生活,立場角度也抓得剛剛好,很推薦有需要的朋友...</td>\n",
       "    </tr>\n",
       "    <tr>\n",
       "      <th>7</th>\n",
       "      <td>9789571352664</td>\n",
       "      <td>\\r雖然人人都可以說出話，但是，卻不是人人都會說對話。作者利用許多有趣的小故事，解析話要如何...</td>\n",
       "    </tr>\n",
       "    <tr>\n",
       "      <th>8</th>\n",
       "      <td>9789861750866</td>\n",
       "      <td>\\r這本書是引領我認識吸引力法則的入門書籍，也是十分重要的一本書，它以簡單的語句說明吸引力法...</td>\n",
       "    </tr>\n",
       "    <tr>\n",
       "      <th>9</th>\n",
       "      <td>9789866158056</td>\n",
       "      <td>\\r條列各種心理定律，並加註該條心理反應適用的族群;接著舉例詳細說明，非常容易理解。 例如:...</td>\n",
       "    </tr>\n",
       "  </tbody>\n",
       "</table>\n",
       "</div>"
      ],
      "text/plain": [
       "            ISBN                                            COMMENT\n",
       "0  9789868658301  \\r從另一角度重新思索2012的可能性，並由己身出發，重新探討如何開發全新的自我，以不同的角...\n",
       "1  9789861752068  \\r力克胡哲的精神是值得大家學習的，不管遇到多困難的事情或挫折，永遠都能用最樂觀、積極的態度...\n",
       "2  9789861750675  \\r祕密就存在於我自己，提供給想覺知及改變的朋友，透過每個摘要的提醒與練習，實際觀察所思所想...\n",
       "3  9789861333090  \\r陶子姊真的是個很有智慧也十分坦白的知識女性。 你會看到男女之間相處的各種模式和問題還有內...\n",
       "4  9789861371238  \\r這本書，是我第一次那麼認真、快速的看完一本書!他會有種讓人一直看下去的魔力，不會讓人覺得...\n",
       "5  9789861206691  \\r非常棒的一本書,關於付出,付出不一定必須是花錢的,真心的付出,會很微妙的改變自已和周遭的...\n",
       "6  9789866175183  \\r長期都有在關注薇薇的部落格,文章寫得很貼近生活,立場角度也抓得剛剛好,很推薦有需要的朋友...\n",
       "7  9789571352664  \\r雖然人人都可以說出話，但是，卻不是人人都會說對話。作者利用許多有趣的小故事，解析話要如何...\n",
       "8  9789861750866  \\r這本書是引領我認識吸引力法則的入門書籍，也是十分重要的一本書，它以簡單的語句說明吸引力法...\n",
       "9  9789866158056  \\r條列各種心理定律，並加註該條心理反應適用的族群;接著舉例詳細說明，非常容易理解。 例如:..."
      ]
     },
     "execution_count": 55,
     "metadata": {},
     "output_type": "execute_result"
    }
   ],
   "source": [
    "df1=pd.read_json('test_not_send/comment1.json')\n",
    "df1"
   ]
  },
  {
   "cell_type": "code",
   "execution_count": null,
   "id": "37206835",
   "metadata": {},
   "outputs": [],
   "source": []
  }
 ],
 "metadata": {
  "kernelspec": {
   "display_name": "TFB103",
   "language": "python",
   "name": "tfb103"
  },
  "language_info": {
   "codemirror_mode": {
    "name": "ipython",
    "version": 3
   },
   "file_extension": ".py",
   "mimetype": "text/x-python",
   "name": "python",
   "nbconvert_exporter": "python",
   "pygments_lexer": "ipython3",
   "version": "3.8.10"
  }
 },
 "nbformat": 4,
 "nbformat_minor": 5
}
