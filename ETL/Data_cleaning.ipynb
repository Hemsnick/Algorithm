{
 "cells": [
  {
   "cell_type": "markdown",
   "id": "1e8455fc",
   "metadata": {},
   "source": [
    "### 使用mongoexport 拉出mongodb 資料"
   ]
  },
  {
   "cell_type": "code",
   "execution_count": 6,
   "id": "8cd51021",
   "metadata": {},
   "outputs": [],
   "source": [
    "# cd desktop\n",
    "# mongoexport --host 10.2.18.6 --db userstar --collection userstar --out readmoo_all.json"
   ]
  },
  {
   "cell_type": "markdown",
   "id": "815df6c0",
   "metadata": {},
   "source": [
    "### 將readmoo的書評 做資料清洗"
   ]
  },
  {
   "cell_type": "code",
   "execution_count": 5,
   "id": "d1c38622",
   "metadata": {},
   "outputs": [
    {
     "name": "stderr",
     "output_type": "stream",
     "text": [
      "<ipython-input-5-30ece8e93003>:14: FutureWarning: The default value of regex will change from True to False in a future version.\n",
      "  df['CONTENT'] = df['CONTENT'].str.replace(pattern, '')\n"
     ]
    },
    {
     "name": "stdout",
     "output_type": "stream",
     "text": [
      "ISBN        100176\n",
      "BOOKNAME    100176\n",
      "USER        100176\n",
      "CONTENT     100176\n",
      "USERSTAR    100176\n",
      "dtype: int64\n"
     ]
    }
   ],
   "source": [
    "import pandas as pd\n",
    "def etl(filename):\n",
    "    df=pd.read_json(filename,lines=True)\n",
    "    df=df.drop(df[df[\"ISBN\"]=='0'].index,axis=0)\n",
    "    df=df.drop(df[df['ISBN']==''].index,axis=0)\n",
    "    df=df.drop(df[df['USER'].isnull()].index,axis=0)\n",
    "    df=df.drop(df[df['ISBN']==''].index,axis=0)\n",
    "    df=df.dropna()    \n",
    "    df['ISBN'] = df['ISBN'].astype('str')  # 確認 ISBN 為 STR\n",
    "    df['USERSTAR'] = df['USERSTAR'].astype('float64')\n",
    "    del df['_id']\n",
    "\n",
    "    pattern = '|'.join(['\\n', '\\r', '\\t','\\xa0','\\u3000'])\n",
    "    df['CONTENT'] = df['CONTENT'].str.replace(pattern, '') \n",
    "    df=df.reset_index(drop=True)\n",
    "    print(df.count())\n",
    "    return df\n",
    "#     df.to_json('cleaned_comment.json',orient='records',lines=True,force_ascii=False)\n",
    "filename = r'C:\\Users\\Tibame_T14\\Desktop\\readmoo_all.json'\n",
    "readmoo_df=etl(filename)"
   ]
  },
  {
   "cell_type": "markdown",
   "id": "f34b6d6b",
   "metadata": {},
   "source": [
    "### 將kingstone書評做清洗"
   ]
  },
  {
   "cell_type": "code",
   "execution_count": 6,
   "id": "92d41728",
   "metadata": {},
   "outputs": [
    {
     "name": "stdout",
     "output_type": "stream",
     "text": [
      "BOOKNAME    2515\n",
      "ISBN        2515\n",
      "USER        2515\n",
      "CONTENT     2515\n",
      "USERSTAR    2515\n",
      "dtype: int64\n"
     ]
    },
    {
     "name": "stderr",
     "output_type": "stream",
     "text": [
      "<ipython-input-6-16e8fe3faec1>:18: FutureWarning: The default value of regex will change from True to False in a future version.\n",
      "  df_kingstone['CONTENT'] = df_kingstone['CONTENT'].str.replace(pattern, '')\n"
     ]
    }
   ],
   "source": [
    "# combine dataframe from folder\n",
    "from functools import reduce\n",
    "import pandas as pd\n",
    "import os\n",
    "def kingstone(filename):\n",
    "\n",
    "    df_kingstone=pd.read_json(filename,lines=True)\n",
    "    df_kingstone=df_kingstone.drop(df_kingstone[df_kingstone['ISBN']==''].index,axis=0)\n",
    "    df_kingstone=df_kingstone.drop(df_kingstone[df_kingstone[\"ISBN\"]=='0'].index,axis=0)\n",
    "    df_kingstone=df_kingstone.drop(df_kingstone[df_kingstone['USER'].isnull()].index,axis=0)\n",
    "\n",
    "    df_kingstone=df_kingstone.dropna()\n",
    "    df_kingstone['ISBN'] = df_kingstone['ISBN'].astype('str')  # 確認 ISBN 為 STR\n",
    "\n",
    "#     del readmoo_df['_id']\n",
    "\n",
    "    pattern = '|'.join(['\\n', '\\r', '\\t','\\xa0','\\u3000'])\n",
    "    df_kingstone['CONTENT'] = df_kingstone['CONTENT'].str.replace(pattern, '') \n",
    "    df_kingstone=df_kingstone.reset_index(drop=True)\n",
    "    df_kingstone['USERSTAR']=float(0)\n",
    "    print(df_kingstone.count())\n",
    "    return df_kingstone\n",
    "filename = r'king_comment.json'\n",
    "kingstone_df=kingstone(filename)"
   ]
  },
  {
   "cell_type": "markdown",
   "id": "e5b7d7f0",
   "metadata": {},
   "source": [
    "### 將金石堂書籍做清洗"
   ]
  },
  {
   "cell_type": "code",
   "execution_count": 2,
   "id": "bc9affa6",
   "metadata": {},
   "outputs": [],
   "source": [
    "import pandas as pd"
   ]
  },
  {
   "cell_type": "code",
   "execution_count": 27,
   "id": "a74c5b5e",
   "metadata": {},
   "outputs": [],
   "source": [
    "df=pd.read_json('./test_not_send/test.json',lines=True)"
   ]
  },
  {
   "cell_type": "code",
   "execution_count": 28,
   "id": "eef86efc",
   "metadata": {},
   "outputs": [],
   "source": [
    "del df['_id']"
   ]
  },
  {
   "cell_type": "code",
   "execution_count": 29,
   "id": "893e237f",
   "metadata": {},
   "outputs": [],
   "source": [
    "df=df.drop_duplicates(subset=['ISBN'])\n",
    "df=df.drop(df[df[\"ISBN\"]=='0'].index,axis=0)\n",
    "df=df.drop(df[df['書籍簡介']=='0'].index,axis=0)\n",
    "df=df.drop(df[df['書籍簡介']==''].index,axis=0)\n",
    "df=df.drop(df[df['ISBN']==''].index,axis=0)"
   ]
  },
  {
   "cell_type": "code",
   "execution_count": 30,
   "id": "9c0bb261",
   "metadata": {
    "scrolled": true
   },
   "outputs": [
    {
     "name": "stderr",
     "output_type": "stream",
     "text": [
      "/var/folders/9x/8jkp3nzj0sj4g7w0s98xq_2m0000gn/T/ipykernel_1064/1920646092.py:2: FutureWarning: The default value of regex will change from True to False in a future version.\n",
      "  df['書籍簡介'] = df['書籍簡介'].str.replace(pattern, '')\n"
     ]
    }
   ],
   "source": [
    "pattern = '|'.join(['\\n', '\\r', '\\t','\\xa0','\\u3000'])\n",
    "df['書籍簡介'] = df['書籍簡介'].str.replace(pattern, '')"
   ]
  },
  {
   "cell_type": "code",
   "execution_count": 32,
   "id": "9f3d9e9f",
   "metadata": {},
   "outputs": [],
   "source": [
    "df=df.dropna(axis=0)\n",
    "df=df.reset_index(drop=True)"
   ]
  },
  {
   "cell_type": "code",
   "execution_count": 33,
   "id": "e8788ed8",
   "metadata": {},
   "outputs": [
    {
     "data": {
      "text/plain": [
       "書名      472834\n",
       "書籍網站    472834\n",
       "作者      472834\n",
       "出版社     472834\n",
       "ISBN    472834\n",
       "圖片網址    472834\n",
       "書籍簡介    472834\n",
       "dtype: int64"
      ]
     },
     "execution_count": 33,
     "metadata": {},
     "output_type": "execute_result"
    }
   ],
   "source": [
    "df.count()"
   ]
  },
  {
   "cell_type": "code",
   "execution_count": null,
   "id": "c9dd4eed",
   "metadata": {},
   "outputs": [],
   "source": [
    "df.to_json('all_books.json',orient='records',lines=True,force_ascii=False)"
   ]
  },
  {
   "cell_type": "markdown",
   "id": "a9474329",
   "metadata": {},
   "source": [
    "### 清洗書籍簡介 column\n",
    "columns='書名','ISBN','words'"
   ]
  },
  {
   "cell_type": "code",
   "execution_count": 34,
   "id": "d174add4",
   "metadata": {},
   "outputs": [],
   "source": [
    "df['words'] = df['書名']+'，' + df['書籍簡介']"
   ]
  },
  {
   "cell_type": "code",
   "execution_count": 35,
   "id": "844a4e2a",
   "metadata": {},
   "outputs": [],
   "source": [
    "del df['書籍網站'],df['作者'],df['出版社'],df['圖片網址'],df['書籍簡介']"
   ]
  },
  {
   "cell_type": "code",
   "execution_count": 36,
   "id": "ae5adc2b",
   "metadata": {},
   "outputs": [],
   "source": [
    "stop_words_list=[]\n",
    "with open(file='./test_not_send/stop_words.txt',mode='r', encoding=\"UTF-8\") as file:\n",
    "    for line in file:\n",
    "        line = line.strip()\n",
    "        stop_words_list.append(line)"
   ]
  },
  {
   "cell_type": "code",
   "execution_count": 37,
   "id": "24b46569",
   "metadata": {},
   "outputs": [],
   "source": [
    "stop_words='|'.join(stop_words_list)"
   ]
  },
  {
   "cell_type": "code",
   "execution_count": 38,
   "id": "6e26b9a7",
   "metadata": {},
   "outputs": [
    {
     "name": "stderr",
     "output_type": "stream",
     "text": [
      "/var/folders/9x/8jkp3nzj0sj4g7w0s98xq_2m0000gn/T/ipykernel_1064/92872001.py:1: FutureWarning: The default value of regex will change from True to False in a future version.\n",
      "  df['words']=df.words.str.replace(stop_words,'')\n"
     ]
    }
   ],
   "source": [
    "df['words']=df.words.str.replace(stop_words,'')"
   ]
  },
  {
   "cell_type": "code",
   "execution_count": null,
   "id": "bf4ed158",
   "metadata": {},
   "outputs": [],
   "source": [
    "df.to_json('./test_not_send/intro_for_jieba.json',orient='records',lines=True,force_ascii=False)"
   ]
  },
  {
   "cell_type": "markdown",
   "id": "33728fe4",
   "metadata": {},
   "source": [
    "### 對簡介斷詞( py上運行 )"
   ]
  },
  {
   "cell_type": "code",
   "execution_count": null,
   "id": "b345e261",
   "metadata": {},
   "outputs": [],
   "source": [
    "from multiprocessing import Pool\n",
    "import pandas as pd\n",
    "import jieba\n",
    "import jieba.analyse\n",
    "import time\n",
    "df=pd.read_json('./test_not_send/intro_for_jieba.json',lines=True)\n",
    "jieba.set_dictionary('test_not_send/dict.txt.big')\n",
    "\n",
    "df_store=df.to_dict('record')\n",
    "need=df_store[:4000]\n",
    "\n",
    "def cut_word(dict1):\n",
    "    cw=jieba.cut(dict1['words'])\n",
    "    result=' '.join(cw)\n",
    "    tags=jieba.analyse.extract_tags(result,topK=40,allowPOS=('n','ns','nz','v'))\n",
    "    dict1['jieba_cut']=','.join(tags)\n",
    "if __name__ == '__main__':\n",
    "    start_time=time.time()\n",
    "    with Pool(4) as p:\n",
    "        p.map(cut_word,need)\n",
    "    end_time=time.time()\n",
    "    print(end_time-start_time)\n",
    "    \n",
    "    df_need=pd.Dataframe(need)\n",
    "    df_need.to_json('./test_not_send/jieba_top40.json',orient='records',lines=True,force_ascii=False)"
   ]
  },
  {
   "cell_type": "code",
   "execution_count": null,
   "id": "ed9f32ef",
   "metadata": {},
   "outputs": [],
   "source": []
  },
  {
   "cell_type": "markdown",
   "id": "27a4f330",
   "metadata": {},
   "source": [
    "### 回頭清洗ISBN\n",
    "(演算法結果發現ISBN不為數值)"
   ]
  },
  {
   "cell_type": "code",
   "execution_count": 39,
   "id": "75303b87",
   "metadata": {},
   "outputs": [],
   "source": [
    "df=pd.read_json('./test_not_send/jieba_top40.json',lines=True)"
   ]
  },
  {
   "cell_type": "code",
   "execution_count": 42,
   "id": "cfdc1e04",
   "metadata": {},
   "outputs": [],
   "source": [
    "df_origin= pd.read_json('./test_not_send/categ.json',lines=True)"
   ]
  },
  {
   "cell_type": "code",
   "execution_count": 41,
   "id": "b3f45455",
   "metadata": {},
   "outputs": [],
   "source": [
    "del df['_id']"
   ]
  },
  {
   "cell_type": "code",
   "execution_count": 44,
   "id": "4197bb2d",
   "metadata": {},
   "outputs": [
    {
     "data": {
      "text/html": [
       "<div>\n",
       "<style scoped>\n",
       "    .dataframe tbody tr th:only-of-type {\n",
       "        vertical-align: middle;\n",
       "    }\n",
       "\n",
       "    .dataframe tbody tr th {\n",
       "        vertical-align: top;\n",
       "    }\n",
       "\n",
       "    .dataframe thead th {\n",
       "        text-align: right;\n",
       "    }\n",
       "</style>\n",
       "<table border=\"1\" class=\"dataframe\">\n",
       "  <thead>\n",
       "    <tr style=\"text-align: right;\">\n",
       "      <th></th>\n",
       "      <th>書名</th>\n",
       "      <th>ISBN</th>\n",
       "      <th>jieba_cut</th>\n",
       "    </tr>\n",
       "  </thead>\n",
       "  <tbody>\n",
       "    <tr>\n",
       "      <th>15334</th>\n",
       "      <td>Compiler The Greed Whisperer</td>\n",
       "      <td>https://cdn.kingstone.com.tw/english/images/pr...</td>\n",
       "      <td></td>\n",
       "    </tr>\n",
       "    <tr>\n",
       "      <th>15335</th>\n",
       "      <td>Compiler The Greed Whisperer</td>\n",
       "      <td>https://cdn.kingstone.com.tw/english/images/pr...</td>\n",
       "      <td></td>\n",
       "    </tr>\n",
       "    <tr>\n",
       "      <th>15336</th>\n",
       "      <td>Introduction to Compiler Design</td>\n",
       "      <td>https://cdn.kingstone.com.tw/english/images/pr...</td>\n",
       "      <td></td>\n",
       "    </tr>\n",
       "    <tr>\n",
       "      <th>15337</th>\n",
       "      <td>Introduction to Compiler Design</td>\n",
       "      <td>https://cdn.kingstone.com.tw/english/images/pr...</td>\n",
       "      <td></td>\n",
       "    </tr>\n",
       "    <tr>\n",
       "      <th>15338</th>\n",
       "      <td>A PHP Compiler for the .NET Platform</td>\n",
       "      <td>https://cdn.kingstone.com.tw/english/images/pr...</td>\n",
       "      <td></td>\n",
       "    </tr>\n",
       "  </tbody>\n",
       "</table>\n",
       "</div>"
      ],
      "text/plain": [
       "                                         書名  \\\n",
       "15334          Compiler The Greed Whisperer   \n",
       "15335          Compiler The Greed Whisperer   \n",
       "15336       Introduction to Compiler Design   \n",
       "15337       Introduction to Compiler Design   \n",
       "15338  A PHP Compiler for the .NET Platform   \n",
       "\n",
       "                                                    ISBN jieba_cut  \n",
       "15334  https://cdn.kingstone.com.tw/english/images/pr...            \n",
       "15335  https://cdn.kingstone.com.tw/english/images/pr...            \n",
       "15336  https://cdn.kingstone.com.tw/english/images/pr...            \n",
       "15337  https://cdn.kingstone.com.tw/english/images/pr...            \n",
       "15338  https://cdn.kingstone.com.tw/english/images/pr...            "
      ]
     },
     "execution_count": 44,
     "metadata": {},
     "output_type": "execute_result"
    }
   ],
   "source": [
    "df.loc[df['ISBN'].str.contains('http')][:].head()"
   ]
  },
  {
   "cell_type": "code",
   "execution_count": 43,
   "id": "1102a9a5",
   "metadata": {},
   "outputs": [
    {
     "data": {
      "text/plain": [
       "書名      472834\n",
       "書籍網站    472834\n",
       "作者      472834\n",
       "出版社     472834\n",
       "ISBN    472834\n",
       "圖片網址    472834\n",
       "書籍簡介    472834\n",
       "類別      235057\n",
       "dtype: int64"
      ]
     },
     "execution_count": 43,
     "metadata": {},
     "output_type": "execute_result"
    }
   ],
   "source": [
    "df_origin.count()"
   ]
  },
  {
   "cell_type": "code",
   "execution_count": null,
   "id": "cc51afb7",
   "metadata": {},
   "outputs": [],
   "source": []
  }
 ],
 "metadata": {
  "kernelspec": {
   "display_name": "Python 3 (ipykernel)",
   "language": "python",
   "name": "python3"
  },
  "language_info": {
   "codemirror_mode": {
    "name": "ipython",
    "version": 3
   },
   "file_extension": ".py",
   "mimetype": "text/x-python",
   "name": "python",
   "nbconvert_exporter": "python",
   "pygments_lexer": "ipython3",
   "version": "3.9.1"
  }
 },
 "nbformat": 4,
 "nbformat_minor": 5
}
